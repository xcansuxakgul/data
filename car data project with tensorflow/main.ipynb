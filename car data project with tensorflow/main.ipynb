{
 "cells": [
  {
   "cell_type": "code",
   "execution_count": 1,
   "metadata": {},
   "outputs": [],
   "source": [
    "%matplotlib inline\n",
    "import pandas as pd\n",
    "import numpy as np\n",
    "import matplotlib.pyplot as plt\n",
    "import seaborn as sbn"
   ]
  },
  {
   "cell_type": "code",
   "execution_count": 2,
   "metadata": {},
   "outputs": [],
   "source": [
    "dataFrame = pd.read_csv('merc.csv')"
   ]
  },
  {
   "cell_type": "code",
   "execution_count": 3,
   "metadata": {},
   "outputs": [
    {
     "data": {
      "text/html": [
       "<div>\n",
       "<style scoped>\n",
       "    .dataframe tbody tr th:only-of-type {\n",
       "        vertical-align: middle;\n",
       "    }\n",
       "\n",
       "    .dataframe tbody tr th {\n",
       "        vertical-align: top;\n",
       "    }\n",
       "\n",
       "    .dataframe thead th {\n",
       "        text-align: right;\n",
       "    }\n",
       "</style>\n",
       "<table border=\"1\" class=\"dataframe\">\n",
       "  <thead>\n",
       "    <tr style=\"text-align: right;\">\n",
       "      <th></th>\n",
       "      <th>model</th>\n",
       "      <th>year</th>\n",
       "      <th>price</th>\n",
       "      <th>transmission</th>\n",
       "      <th>mileage</th>\n",
       "      <th>fuelType</th>\n",
       "      <th>tax</th>\n",
       "      <th>mpg</th>\n",
       "      <th>engineSize</th>\n",
       "    </tr>\n",
       "  </thead>\n",
       "  <tbody>\n",
       "    <tr>\n",
       "      <th>0</th>\n",
       "      <td>SLK</td>\n",
       "      <td>2005</td>\n",
       "      <td>5200</td>\n",
       "      <td>Automatic</td>\n",
       "      <td>63000</td>\n",
       "      <td>Petrol</td>\n",
       "      <td>325</td>\n",
       "      <td>32.1</td>\n",
       "      <td>1.8</td>\n",
       "    </tr>\n",
       "    <tr>\n",
       "      <th>1</th>\n",
       "      <td>S Class</td>\n",
       "      <td>2017</td>\n",
       "      <td>34948</td>\n",
       "      <td>Automatic</td>\n",
       "      <td>27000</td>\n",
       "      <td>Hybrid</td>\n",
       "      <td>20</td>\n",
       "      <td>61.4</td>\n",
       "      <td>2.1</td>\n",
       "    </tr>\n",
       "    <tr>\n",
       "      <th>2</th>\n",
       "      <td>SL CLASS</td>\n",
       "      <td>2016</td>\n",
       "      <td>49948</td>\n",
       "      <td>Automatic</td>\n",
       "      <td>6200</td>\n",
       "      <td>Petrol</td>\n",
       "      <td>555</td>\n",
       "      <td>28.0</td>\n",
       "      <td>5.5</td>\n",
       "    </tr>\n",
       "    <tr>\n",
       "      <th>3</th>\n",
       "      <td>G Class</td>\n",
       "      <td>2016</td>\n",
       "      <td>61948</td>\n",
       "      <td>Automatic</td>\n",
       "      <td>16000</td>\n",
       "      <td>Petrol</td>\n",
       "      <td>325</td>\n",
       "      <td>30.4</td>\n",
       "      <td>4.0</td>\n",
       "    </tr>\n",
       "    <tr>\n",
       "      <th>4</th>\n",
       "      <td>G Class</td>\n",
       "      <td>2016</td>\n",
       "      <td>73948</td>\n",
       "      <td>Automatic</td>\n",
       "      <td>4000</td>\n",
       "      <td>Petrol</td>\n",
       "      <td>325</td>\n",
       "      <td>30.1</td>\n",
       "      <td>4.0</td>\n",
       "    </tr>\n",
       "  </tbody>\n",
       "</table>\n",
       "</div>"
      ],
      "text/plain": [
       "       model  year  price transmission  mileage fuelType  tax   mpg  \\\n",
       "0        SLK  2005   5200    Automatic    63000   Petrol  325  32.1   \n",
       "1    S Class  2017  34948    Automatic    27000   Hybrid   20  61.4   \n",
       "2   SL CLASS  2016  49948    Automatic     6200   Petrol  555  28.0   \n",
       "3    G Class  2016  61948    Automatic    16000   Petrol  325  30.4   \n",
       "4    G Class  2016  73948    Automatic     4000   Petrol  325  30.1   \n",
       "\n",
       "   engineSize  \n",
       "0         1.8  \n",
       "1         2.1  \n",
       "2         5.5  \n",
       "3         4.0  \n",
       "4         4.0  "
      ]
     },
     "execution_count": 3,
     "metadata": {},
     "output_type": "execute_result"
    }
   ],
   "source": [
    "dataFrame.head()"
   ]
  },
  {
   "cell_type": "code",
   "execution_count": 4,
   "metadata": {},
   "outputs": [
    {
     "data": {
      "text/html": [
       "<div>\n",
       "<style scoped>\n",
       "    .dataframe tbody tr th:only-of-type {\n",
       "        vertical-align: middle;\n",
       "    }\n",
       "\n",
       "    .dataframe tbody tr th {\n",
       "        vertical-align: top;\n",
       "    }\n",
       "\n",
       "    .dataframe thead th {\n",
       "        text-align: right;\n",
       "    }\n",
       "</style>\n",
       "<table border=\"1\" class=\"dataframe\">\n",
       "  <thead>\n",
       "    <tr style=\"text-align: right;\">\n",
       "      <th></th>\n",
       "      <th>count</th>\n",
       "      <th>mean</th>\n",
       "      <th>std</th>\n",
       "      <th>min</th>\n",
       "      <th>25%</th>\n",
       "      <th>50%</th>\n",
       "      <th>75%</th>\n",
       "      <th>max</th>\n",
       "    </tr>\n",
       "  </thead>\n",
       "  <tbody>\n",
       "    <tr>\n",
       "      <th>year</th>\n",
       "      <td>13119.0</td>\n",
       "      <td>2017.296288</td>\n",
       "      <td>2.224709</td>\n",
       "      <td>1970.0</td>\n",
       "      <td>2016.0</td>\n",
       "      <td>2018.0</td>\n",
       "      <td>2019.0</td>\n",
       "      <td>2020.0</td>\n",
       "    </tr>\n",
       "    <tr>\n",
       "      <th>price</th>\n",
       "      <td>13119.0</td>\n",
       "      <td>24698.596920</td>\n",
       "      <td>11842.675542</td>\n",
       "      <td>650.0</td>\n",
       "      <td>17450.0</td>\n",
       "      <td>22480.0</td>\n",
       "      <td>28980.0</td>\n",
       "      <td>159999.0</td>\n",
       "    </tr>\n",
       "    <tr>\n",
       "      <th>mileage</th>\n",
       "      <td>13119.0</td>\n",
       "      <td>21949.559037</td>\n",
       "      <td>21176.512267</td>\n",
       "      <td>1.0</td>\n",
       "      <td>6097.5</td>\n",
       "      <td>15189.0</td>\n",
       "      <td>31779.5</td>\n",
       "      <td>259000.0</td>\n",
       "    </tr>\n",
       "    <tr>\n",
       "      <th>tax</th>\n",
       "      <td>13119.0</td>\n",
       "      <td>129.972178</td>\n",
       "      <td>65.260286</td>\n",
       "      <td>0.0</td>\n",
       "      <td>125.0</td>\n",
       "      <td>145.0</td>\n",
       "      <td>145.0</td>\n",
       "      <td>580.0</td>\n",
       "    </tr>\n",
       "    <tr>\n",
       "      <th>mpg</th>\n",
       "      <td>13119.0</td>\n",
       "      <td>55.155843</td>\n",
       "      <td>15.220082</td>\n",
       "      <td>1.1</td>\n",
       "      <td>45.6</td>\n",
       "      <td>56.5</td>\n",
       "      <td>64.2</td>\n",
       "      <td>217.3</td>\n",
       "    </tr>\n",
       "    <tr>\n",
       "      <th>engineSize</th>\n",
       "      <td>13119.0</td>\n",
       "      <td>2.071530</td>\n",
       "      <td>0.572426</td>\n",
       "      <td>0.0</td>\n",
       "      <td>1.8</td>\n",
       "      <td>2.0</td>\n",
       "      <td>2.1</td>\n",
       "      <td>6.2</td>\n",
       "    </tr>\n",
       "  </tbody>\n",
       "</table>\n",
       "</div>"
      ],
      "text/plain": [
       "              count          mean           std     min      25%      50%  \\\n",
       "year        13119.0   2017.296288      2.224709  1970.0   2016.0   2018.0   \n",
       "price       13119.0  24698.596920  11842.675542   650.0  17450.0  22480.0   \n",
       "mileage     13119.0  21949.559037  21176.512267     1.0   6097.5  15189.0   \n",
       "tax         13119.0    129.972178     65.260286     0.0    125.0    145.0   \n",
       "mpg         13119.0     55.155843     15.220082     1.1     45.6     56.5   \n",
       "engineSize  13119.0      2.071530      0.572426     0.0      1.8      2.0   \n",
       "\n",
       "                75%       max  \n",
       "year         2019.0    2020.0  \n",
       "price       28980.0  159999.0  \n",
       "mileage     31779.5  259000.0  \n",
       "tax           145.0     580.0  \n",
       "mpg            64.2     217.3  \n",
       "engineSize      2.1       6.2  "
      ]
     },
     "execution_count": 4,
     "metadata": {},
     "output_type": "execute_result"
    }
   ],
   "source": [
    "dataFrame.describe().T"
   ]
  },
  {
   "cell_type": "code",
   "execution_count": 5,
   "metadata": {},
   "outputs": [
    {
     "data": {
      "text/plain": [
       "model           0\n",
       "year            0\n",
       "price           0\n",
       "transmission    0\n",
       "mileage         0\n",
       "fuelType        0\n",
       "tax             0\n",
       "mpg             0\n",
       "engineSize      0\n",
       "dtype: int64"
      ]
     },
     "execution_count": 5,
     "metadata": {},
     "output_type": "execute_result"
    }
   ],
   "source": [
    "dataFrame.isnull().sum()"
   ]
  },
  {
   "cell_type": "code",
   "execution_count": 6,
   "metadata": {},
   "outputs": [
    {
     "data": {
      "text/plain": [
       "<seaborn.axisgrid.FacetGrid at 0x26157751b70>"
      ]
     },
     "execution_count": 6,
     "metadata": {},
     "output_type": "execute_result"
    },
    {
     "data": {
      "text/plain": [
       "<Figure size 504x360 with 0 Axes>"
      ]
     },
     "metadata": {},
     "output_type": "display_data"
    },
    {
     "data": {
      "image/png": "[encoded data removed]",
      "text/plain": [
       "<Figure size 360x360 with 1 Axes>"
      ]
     },
     "metadata": {
      "needs_background": "light"
     },
     "output_type": "display_data"
    }
   ],
   "source": [
    "plt.figure(figsize=(7,5))\n",
    "sbn.displot(dataFrame['price'],kde=True)"
   ]
  },
  {
   "cell_type": "code",
   "execution_count": 7,
   "metadata": {},
   "outputs": [
    {
     "data": {
      "text/plain": [
       "<AxesSubplot:xlabel='count', ylabel='year'>"
      ]
     },
     "execution_count": 7,
     "metadata": {},
     "output_type": "execute_result"
    },
    {
     "data": {
      "image/png": "[encoded data removed]",
      "text/plain": [
       "<Figure size 504x360 with 1 Axes>"
      ]
     },
     "metadata": {
      "needs_background": "light"
     },
     "output_type": "display_data"
    }
   ],
   "source": [
    "plt.figure(figsize=(7,5))\n",
    "sbn.countplot(y= dataFrame['year'])"
   ]
  },
  {
   "cell_type": "code",
   "execution_count": 8,
   "metadata": {},
   "outputs": [
    {
     "data": {
      "text/plain": [
       "Text(0.5, 1.0, 'Correlation')"
      ]
     },
     "execution_count": 8,
     "metadata": {},
     "output_type": "execute_result"
    },
    {
     "data": {
      "image/png": "[encoded data removed]",
      "text/plain": [
       "<Figure size 432x288 with 2 Axes>"
      ]
     },
     "metadata": {
      "needs_background": "light"
     },
     "output_type": "display_data"
    }
   ],
   "source": [
    "sbn.heatmap(dataFrame.corr(), annot= True)\n",
    "plt.title('Correlation')"
   ]
  },
  {
   "cell_type": "code",
   "execution_count": 9,
   "metadata": {},
   "outputs": [
    {
     "data": {
      "text/plain": [
       "mileage      -0.537214\n",
       "mpg          -0.438445\n",
       "tax           0.268717\n",
       "engineSize    0.516126\n",
       "year          0.520712\n",
       "price         1.000000\n",
       "Name: price, dtype: float64"
      ]
     },
     "execution_count": 9,
     "metadata": {},
     "output_type": "execute_result"
    }
   ],
   "source": [
    "dataFrame.corr()['price'].sort_values()"
   ]
  },
  {
   "cell_type": "code",
   "execution_count": 10,
   "metadata": {},
   "outputs": [
    {
     "data": {
      "text/plain": [
       "<AxesSubplot:xlabel='mileage', ylabel='price'>"
      ]
     },
     "execution_count": 10,
     "metadata": {},
     "output_type": "execute_result"
    },
    {
     "data": {
      "image/png": "[encoded data removed]",
      "text/plain": [
       "<Figure size 432x288 with 1 Axes>"
      ]
     },
     "metadata": {
      "needs_background": "light"
     },
     "output_type": "display_data"
    }
   ],
   "source": [
    "sbn.scatterplot(x='mileage',y='price',data= dataFrame)"
   ]
  },
  {
   "cell_type": "code",
   "execution_count": 11,
   "metadata": {},
   "outputs": [
    {
     "data": {
      "text/html": [
       "<div>\n",
       "<style scoped>\n",
       "    .dataframe tbody tr th:only-of-type {\n",
       "        vertical-align: middle;\n",
       "    }\n",
       "\n",
       "    .dataframe tbody tr th {\n",
       "        vertical-align: top;\n",
       "    }\n",
       "\n",
       "    .dataframe thead th {\n",
       "        text-align: right;\n",
       "    }\n",
       "</style>\n",
       "<table border=\"1\" class=\"dataframe\">\n",
       "  <thead>\n",
       "    <tr style=\"text-align: right;\">\n",
       "      <th></th>\n",
       "      <th>model</th>\n",
       "      <th>year</th>\n",
       "      <th>price</th>\n",
       "      <th>transmission</th>\n",
       "      <th>mileage</th>\n",
       "      <th>fuelType</th>\n",
       "      <th>tax</th>\n",
       "      <th>mpg</th>\n",
       "      <th>engineSize</th>\n",
       "    </tr>\n",
       "  </thead>\n",
       "  <tbody>\n",
       "    <tr>\n",
       "      <th>6199</th>\n",
       "      <td>G Class</td>\n",
       "      <td>2020</td>\n",
       "      <td>159999</td>\n",
       "      <td>Semi-Auto</td>\n",
       "      <td>1350</td>\n",
       "      <td>Petrol</td>\n",
       "      <td>145</td>\n",
       "      <td>21.4</td>\n",
       "      <td>4.0</td>\n",
       "    </tr>\n",
       "    <tr>\n",
       "      <th>10044</th>\n",
       "      <td>G Class</td>\n",
       "      <td>2020</td>\n",
       "      <td>154998</td>\n",
       "      <td>Automatic</td>\n",
       "      <td>3000</td>\n",
       "      <td>Petrol</td>\n",
       "      <td>150</td>\n",
       "      <td>21.4</td>\n",
       "      <td>4.0</td>\n",
       "    </tr>\n",
       "    <tr>\n",
       "      <th>5</th>\n",
       "      <td>SL CLASS</td>\n",
       "      <td>2011</td>\n",
       "      <td>149948</td>\n",
       "      <td>Automatic</td>\n",
       "      <td>3000</td>\n",
       "      <td>Petrol</td>\n",
       "      <td>570</td>\n",
       "      <td>21.4</td>\n",
       "      <td>6.2</td>\n",
       "    </tr>\n",
       "    <tr>\n",
       "      <th>8737</th>\n",
       "      <td>A Class</td>\n",
       "      <td>2019</td>\n",
       "      <td>140319</td>\n",
       "      <td>Semi-Auto</td>\n",
       "      <td>785</td>\n",
       "      <td>Petrol</td>\n",
       "      <td>150</td>\n",
       "      <td>22.1</td>\n",
       "      <td>4.0</td>\n",
       "    </tr>\n",
       "    <tr>\n",
       "      <th>6386</th>\n",
       "      <td>G Class</td>\n",
       "      <td>2018</td>\n",
       "      <td>139995</td>\n",
       "      <td>Semi-Auto</td>\n",
       "      <td>13046</td>\n",
       "      <td>Petrol</td>\n",
       "      <td>145</td>\n",
       "      <td>21.4</td>\n",
       "      <td>4.0</td>\n",
       "    </tr>\n",
       "    <tr>\n",
       "      <th>8</th>\n",
       "      <td>G Class</td>\n",
       "      <td>2019</td>\n",
       "      <td>139948</td>\n",
       "      <td>Automatic</td>\n",
       "      <td>12000</td>\n",
       "      <td>Petrol</td>\n",
       "      <td>145</td>\n",
       "      <td>21.4</td>\n",
       "      <td>4.0</td>\n",
       "    </tr>\n",
       "    <tr>\n",
       "      <th>9133</th>\n",
       "      <td>A Class</td>\n",
       "      <td>2019</td>\n",
       "      <td>139559</td>\n",
       "      <td>Semi-Auto</td>\n",
       "      <td>1000</td>\n",
       "      <td>Petrol</td>\n",
       "      <td>145</td>\n",
       "      <td>22.1</td>\n",
       "      <td>4.0</td>\n",
       "    </tr>\n",
       "    <tr>\n",
       "      <th>8821</th>\n",
       "      <td>A Class</td>\n",
       "      <td>2020</td>\n",
       "      <td>138439</td>\n",
       "      <td>Semi-Auto</td>\n",
       "      <td>1000</td>\n",
       "      <td>Petrol</td>\n",
       "      <td>145</td>\n",
       "      <td>22.1</td>\n",
       "      <td>4.0</td>\n",
       "    </tr>\n",
       "    <tr>\n",
       "      <th>5902</th>\n",
       "      <td>G Class</td>\n",
       "      <td>2018</td>\n",
       "      <td>135771</td>\n",
       "      <td>Semi-Auto</td>\n",
       "      <td>19000</td>\n",
       "      <td>Petrol</td>\n",
       "      <td>145</td>\n",
       "      <td>21.4</td>\n",
       "      <td>4.0</td>\n",
       "    </tr>\n",
       "    <tr>\n",
       "      <th>7864</th>\n",
       "      <td>G Class</td>\n",
       "      <td>2018</td>\n",
       "      <td>135124</td>\n",
       "      <td>Semi-Auto</td>\n",
       "      <td>18234</td>\n",
       "      <td>Petrol</td>\n",
       "      <td>150</td>\n",
       "      <td>21.4</td>\n",
       "      <td>4.0</td>\n",
       "    </tr>\n",
       "    <tr>\n",
       "      <th>8673</th>\n",
       "      <td>A Class</td>\n",
       "      <td>2019</td>\n",
       "      <td>134219</td>\n",
       "      <td>Semi-Auto</td>\n",
       "      <td>1000</td>\n",
       "      <td>Petrol</td>\n",
       "      <td>145</td>\n",
       "      <td>24.8</td>\n",
       "      <td>4.0</td>\n",
       "    </tr>\n",
       "    <tr>\n",
       "      <th>6210</th>\n",
       "      <td>A Class</td>\n",
       "      <td>2019</td>\n",
       "      <td>129990</td>\n",
       "      <td>Automatic</td>\n",
       "      <td>1000</td>\n",
       "      <td>Petrol</td>\n",
       "      <td>145</td>\n",
       "      <td>24.8</td>\n",
       "      <td>4.0</td>\n",
       "    </tr>\n",
       "    <tr>\n",
       "      <th>4759</th>\n",
       "      <td>A Class</td>\n",
       "      <td>2019</td>\n",
       "      <td>126000</td>\n",
       "      <td>Automatic</td>\n",
       "      <td>250</td>\n",
       "      <td>Petrol</td>\n",
       "      <td>145</td>\n",
       "      <td>24.6</td>\n",
       "      <td>4.0</td>\n",
       "    </tr>\n",
       "    <tr>\n",
       "      <th>2647</th>\n",
       "      <td>A Class</td>\n",
       "      <td>2019</td>\n",
       "      <td>125796</td>\n",
       "      <td>Automatic</td>\n",
       "      <td>637</td>\n",
       "      <td>Petrol</td>\n",
       "      <td>145</td>\n",
       "      <td>24.8</td>\n",
       "      <td>4.0</td>\n",
       "    </tr>\n",
       "    <tr>\n",
       "      <th>6223</th>\n",
       "      <td>S Class</td>\n",
       "      <td>2019</td>\n",
       "      <td>124999</td>\n",
       "      <td>Automatic</td>\n",
       "      <td>1500</td>\n",
       "      <td>Petrol</td>\n",
       "      <td>145</td>\n",
       "      <td>31.7</td>\n",
       "      <td>4.0</td>\n",
       "    </tr>\n",
       "    <tr>\n",
       "      <th>4094</th>\n",
       "      <td>A Class</td>\n",
       "      <td>2019</td>\n",
       "      <td>124366</td>\n",
       "      <td>Semi-Auto</td>\n",
       "      <td>880</td>\n",
       "      <td>Petrol</td>\n",
       "      <td>145</td>\n",
       "      <td>24.8</td>\n",
       "      <td>4.0</td>\n",
       "    </tr>\n",
       "    <tr>\n",
       "      <th>2629</th>\n",
       "      <td>A Class</td>\n",
       "      <td>2019</td>\n",
       "      <td>123846</td>\n",
       "      <td>Semi-Auto</td>\n",
       "      <td>2951</td>\n",
       "      <td>Petrol</td>\n",
       "      <td>145</td>\n",
       "      <td>22.1</td>\n",
       "      <td>4.0</td>\n",
       "    </tr>\n",
       "    <tr>\n",
       "      <th>7134</th>\n",
       "      <td>A Class</td>\n",
       "      <td>2019</td>\n",
       "      <td>115359</td>\n",
       "      <td>Semi-Auto</td>\n",
       "      <td>1000</td>\n",
       "      <td>Petrol</td>\n",
       "      <td>145</td>\n",
       "      <td>30.1</td>\n",
       "      <td>4.0</td>\n",
       "    </tr>\n",
       "    <tr>\n",
       "      <th>9159</th>\n",
       "      <td>A Class</td>\n",
       "      <td>2019</td>\n",
       "      <td>114199</td>\n",
       "      <td>Semi-Auto</td>\n",
       "      <td>891</td>\n",
       "      <td>Petrol</td>\n",
       "      <td>145</td>\n",
       "      <td>22.6</td>\n",
       "      <td>4.0</td>\n",
       "    </tr>\n",
       "    <tr>\n",
       "      <th>1980</th>\n",
       "      <td>S Class</td>\n",
       "      <td>2019</td>\n",
       "      <td>109995</td>\n",
       "      <td>Semi-Auto</td>\n",
       "      <td>4688</td>\n",
       "      <td>Petrol</td>\n",
       "      <td>150</td>\n",
       "      <td>31.7</td>\n",
       "      <td>4.0</td>\n",
       "    </tr>\n",
       "  </tbody>\n",
       "</table>\n",
       "</div>"
      ],
      "text/plain": [
       "           model  year   price transmission  mileage fuelType  tax   mpg  \\\n",
       "6199     G Class  2020  159999    Semi-Auto     1350   Petrol  145  21.4   \n",
       "10044    G Class  2020  154998    Automatic     3000   Petrol  150  21.4   \n",
       "5       SL CLASS  2011  149948    Automatic     3000   Petrol  570  21.4   \n",
       "8737     A Class  2019  140319    Semi-Auto      785   Petrol  150  22.1   \n",
       "6386     G Class  2018  139995    Semi-Auto    13046   Petrol  145  21.4   \n",
       "8        G Class  2019  139948    Automatic    12000   Petrol  145  21.4   \n",
       "9133     A Class  2019  139559    Semi-Auto     1000   Petrol  145  22.1   \n",
       "8821     A Class  2020  138439    Semi-Auto     1000   Petrol  145  22.1   \n",
       "5902     G Class  2018  135771    Semi-Auto    19000   Petrol  145  21.4   \n",
       "7864     G Class  2018  135124    Semi-Auto    18234   Petrol  150  21.4   \n",
       "8673     A Class  2019  134219    Semi-Auto     1000   Petrol  145  24.8   \n",
       "6210     A Class  2019  129990    Automatic     1000   Petrol  145  24.8   \n",
       "4759     A Class  2019  126000    Automatic      250   Petrol  145  24.6   \n",
       "2647     A Class  2019  125796    Automatic      637   Petrol  145  24.8   \n",
       "6223     S Class  2019  124999    Automatic     1500   Petrol  145  31.7   \n",
       "4094     A Class  2019  124366    Semi-Auto      880   Petrol  145  24.8   \n",
       "2629     A Class  2019  123846    Semi-Auto     2951   Petrol  145  22.1   \n",
       "7134     A Class  2019  115359    Semi-Auto     1000   Petrol  145  30.1   \n",
       "9159     A Class  2019  114199    Semi-Auto      891   Petrol  145  22.6   \n",
       "1980     S Class  2019  109995    Semi-Auto     4688   Petrol  150  31.7   \n",
       "\n",
       "       engineSize  \n",
       "6199          4.0  \n",
       "10044         4.0  \n",
       "5             6.2  \n",
       "8737          4.0  \n",
       "6386          4.0  \n",
       "8             4.0  \n",
       "9133          4.0  \n",
       "8821          4.0  \n",
       "5902          4.0  \n",
       "7864          4.0  \n",
       "8673          4.0  \n",
       "6210          4.0  \n",
       "4759          4.0  \n",
       "2647          4.0  \n",
       "6223          4.0  \n",
       "4094          4.0  \n",
       "2629          4.0  \n",
       "7134          4.0  \n",
       "9159          4.0  \n",
       "1980          4.0  "
      ]
     },
     "execution_count": 11,
     "metadata": {},
     "output_type": "execute_result"
    }
   ],
   "source": [
    "dataFrame.sort_values('price',ascending=False).head(20)"
   ]
  },
  {
   "cell_type": "code",
   "execution_count": 12,
   "metadata": {},
   "outputs": [
    {
     "data": {
      "text/plain": [
       "131.19"
      ]
     },
     "execution_count": 12,
     "metadata": {},
     "output_type": "execute_result"
    }
   ],
   "source": [
    "len(dataFrame)* 0.01"
   ]
  },
  {
   "cell_type": "code",
   "execution_count": 13,
   "metadata": {},
   "outputs": [],
   "source": [
    "new_data= dataFrame.sort_values('price',ascending=False).iloc[131:]"
   ]
  },
  {
   "cell_type": "code",
   "execution_count": 14,
   "metadata": {},
   "outputs": [
    {
     "data": {
      "text/html": [
       "<div>\n",
       "<style scoped>\n",
       "    .dataframe tbody tr th:only-of-type {\n",
       "        vertical-align: middle;\n",
       "    }\n",
       "\n",
       "    .dataframe tbody tr th {\n",
       "        vertical-align: top;\n",
       "    }\n",
       "\n",
       "    .dataframe thead th {\n",
       "        text-align: right;\n",
       "    }\n",
       "</style>\n",
       "<table border=\"1\" class=\"dataframe\">\n",
       "  <thead>\n",
       "    <tr style=\"text-align: right;\">\n",
       "      <th></th>\n",
       "      <th>count</th>\n",
       "      <th>mean</th>\n",
       "      <th>std</th>\n",
       "      <th>min</th>\n",
       "      <th>25%</th>\n",
       "      <th>50%</th>\n",
       "      <th>75%</th>\n",
       "      <th>max</th>\n",
       "    </tr>\n",
       "  </thead>\n",
       "  <tbody>\n",
       "    <tr>\n",
       "      <th>year</th>\n",
       "      <td>12988.0</td>\n",
       "      <td>2017.281876</td>\n",
       "      <td>2.228515</td>\n",
       "      <td>1970.0</td>\n",
       "      <td>2016.000</td>\n",
       "      <td>2018.0</td>\n",
       "      <td>2019.00</td>\n",
       "      <td>2020.0</td>\n",
       "    </tr>\n",
       "    <tr>\n",
       "      <th>price</th>\n",
       "      <td>12988.0</td>\n",
       "      <td>24074.926933</td>\n",
       "      <td>9866.224575</td>\n",
       "      <td>650.0</td>\n",
       "      <td>17357.500</td>\n",
       "      <td>22299.0</td>\n",
       "      <td>28706.00</td>\n",
       "      <td>65990.0</td>\n",
       "    </tr>\n",
       "    <tr>\n",
       "      <th>mileage</th>\n",
       "      <td>12988.0</td>\n",
       "      <td>22132.741146</td>\n",
       "      <td>21196.776401</td>\n",
       "      <td>1.0</td>\n",
       "      <td>6322.000</td>\n",
       "      <td>15369.5</td>\n",
       "      <td>31982.25</td>\n",
       "      <td>259000.0</td>\n",
       "    </tr>\n",
       "    <tr>\n",
       "      <th>tax</th>\n",
       "      <td>12988.0</td>\n",
       "      <td>129.689714</td>\n",
       "      <td>65.183076</td>\n",
       "      <td>0.0</td>\n",
       "      <td>125.000</td>\n",
       "      <td>145.0</td>\n",
       "      <td>145.00</td>\n",
       "      <td>580.0</td>\n",
       "    </tr>\n",
       "    <tr>\n",
       "      <th>mpg</th>\n",
       "      <td>12988.0</td>\n",
       "      <td>55.437142</td>\n",
       "      <td>15.025999</td>\n",
       "      <td>1.1</td>\n",
       "      <td>45.600</td>\n",
       "      <td>56.5</td>\n",
       "      <td>64.20</td>\n",
       "      <td>217.3</td>\n",
       "    </tr>\n",
       "    <tr>\n",
       "      <th>engineSize</th>\n",
       "      <td>12988.0</td>\n",
       "      <td>2.050901</td>\n",
       "      <td>0.532596</td>\n",
       "      <td>0.0</td>\n",
       "      <td>1.675</td>\n",
       "      <td>2.0</td>\n",
       "      <td>2.10</td>\n",
       "      <td>6.2</td>\n",
       "    </tr>\n",
       "  </tbody>\n",
       "</table>\n",
       "</div>"
      ],
      "text/plain": [
       "              count          mean           std     min        25%      50%  \\\n",
       "year        12988.0   2017.281876      2.228515  1970.0   2016.000   2018.0   \n",
       "price       12988.0  24074.926933   9866.224575   650.0  17357.500  22299.0   \n",
       "mileage     12988.0  22132.741146  21196.776401     1.0   6322.000  15369.5   \n",
       "tax         12988.0    129.689714     65.183076     0.0    125.000    145.0   \n",
       "mpg         12988.0     55.437142     15.025999     1.1     45.600     56.5   \n",
       "engineSize  12988.0      2.050901      0.532596     0.0      1.675      2.0   \n",
       "\n",
       "                 75%       max  \n",
       "year         2019.00    2020.0  \n",
       "price       28706.00   65990.0  \n",
       "mileage     31982.25  259000.0  \n",
       "tax           145.00     580.0  \n",
       "mpg            64.20     217.3  \n",
       "engineSize      2.10       6.2  "
      ]
     },
     "execution_count": 14,
     "metadata": {},
     "output_type": "execute_result"
    }
   ],
   "source": [
    "new_data.describe().T"
   ]
  },
  {
   "cell_type": "code",
   "execution_count": 15,
   "metadata": {},
   "outputs": [
    {
     "data": {
      "text/plain": [
       "<AxesSubplot:xlabel='price', ylabel='Count'>"
      ]
     },
     "execution_count": 15,
     "metadata": {},
     "output_type": "execute_result"
    },
    {
     "data": {
      "image/png": "[encoded data removed]",
      "text/plain": [
       "<Figure size 504x360 with 1 Axes>"
      ]
     },
     "metadata": {
      "needs_background": "light"
     },
     "output_type": "display_data"
    }
   ],
   "source": [
    "plt.figure(figsize=(7,5))\n",
    "sbn.histplot(new_data['price'],kde=True)"
   ]
  },
  {
   "cell_type": "code",
   "execution_count": 16,
   "metadata": {},
   "outputs": [
    {
     "data": {
      "text/plain": [
       "year\n",
       "1970    24999.000000\n",
       "1997     9995.000000\n",
       "1998     8605.000000\n",
       "1999     5995.000000\n",
       "2000     5743.333333\n",
       "2001     4957.900000\n",
       "2002     5820.444444\n",
       "2003     4878.000000\n",
       "2004     4727.615385\n",
       "2005     4426.111111\n",
       "2006     4036.875000\n",
       "2007     5136.045455\n",
       "2008     6967.437500\n",
       "2009     6166.764706\n",
       "2010     8308.473684\n",
       "2011    12624.894737\n",
       "2012    10845.140351\n",
       "2013    11939.842466\n",
       "2014    14042.936864\n",
       "2015    16731.780020\n",
       "2016    19307.892948\n",
       "2017    21514.307854\n",
       "2018    25720.162918\n",
       "2019    31290.020865\n",
       "2020    35433.282337\n",
       "Name: price, dtype: float64"
      ]
     },
     "execution_count": 16,
     "metadata": {},
     "output_type": "execute_result"
    }
   ],
   "source": [
    "dataFrame.groupby(\"year\").mean()['price']"
   ]
  },
  {
   "cell_type": "code",
   "execution_count": 17,
   "metadata": {},
   "outputs": [
    {
     "data": {
      "text/plain": [
       "year\n",
       "1970    24999.000000\n",
       "1997     9995.000000\n",
       "1998     8605.000000\n",
       "1999     5995.000000\n",
       "2000     5743.333333\n",
       "2001     4957.900000\n",
       "2002     5820.444444\n",
       "2003     4878.000000\n",
       "2004     4727.615385\n",
       "2005     4426.111111\n",
       "2006     4036.875000\n",
       "2007     5136.045455\n",
       "2008     6967.437500\n",
       "2009     6166.764706\n",
       "2010     8308.473684\n",
       "2011     8913.459459\n",
       "2012    10845.140351\n",
       "2013    11939.842466\n",
       "2014    14042.936864\n",
       "2015    16647.822222\n",
       "2016    19223.558943\n",
       "2017    21356.280421\n",
       "2018    24800.844506\n",
       "2019    30289.524832\n",
       "2020    34234.794872\n",
       "Name: price, dtype: float64"
      ]
     },
     "execution_count": 17,
     "metadata": {},
     "output_type": "execute_result"
    }
   ],
   "source": [
    "new_data.groupby('year').mean()['price']"
   ]
  },
  {
   "cell_type": "code",
   "execution_count": 18,
   "metadata": {},
   "outputs": [
    {
     "data": {
      "text/plain": [
       "year\n",
       "1997     9995.000000\n",
       "1998     8605.000000\n",
       "1999     5995.000000\n",
       "2000     5743.333333\n",
       "2001     4957.900000\n",
       "2002     5820.444444\n",
       "2003     4878.000000\n",
       "2004     4727.615385\n",
       "2005     4426.111111\n",
       "2006     4036.875000\n",
       "2007     5136.045455\n",
       "2008     6967.437500\n",
       "2009     6166.764706\n",
       "2010     8308.473684\n",
       "2011    12624.894737\n",
       "2012    10845.140351\n",
       "2013    11939.842466\n",
       "2014    14042.936864\n",
       "2015    16731.780020\n",
       "2016    19307.892948\n",
       "2017    21514.307854\n",
       "2018    25720.162918\n",
       "2019    31290.020865\n",
       "2020    35433.282337\n",
       "Name: price, dtype: float64"
      ]
     },
     "execution_count": 18,
     "metadata": {},
     "output_type": "execute_result"
    }
   ],
   "source": [
    "dataFrame[dataFrame.year != 1970].groupby(\"year\").mean()[\"price\"]"
   ]
  },
  {
   "cell_type": "code",
   "execution_count": 19,
   "metadata": {},
   "outputs": [],
   "source": [
    "dataFrame= new_data"
   ]
  },
  {
   "cell_type": "code",
   "execution_count": 20,
   "metadata": {},
   "outputs": [
    {
     "data": {
      "text/html": [
       "<div>\n",
       "<style scoped>\n",
       "    .dataframe tbody tr th:only-of-type {\n",
       "        vertical-align: middle;\n",
       "    }\n",
       "\n",
       "    .dataframe tbody tr th {\n",
       "        vertical-align: top;\n",
       "    }\n",
       "\n",
       "    .dataframe thead th {\n",
       "        text-align: right;\n",
       "    }\n",
       "</style>\n",
       "<table border=\"1\" class=\"dataframe\">\n",
       "  <thead>\n",
       "    <tr style=\"text-align: right;\">\n",
       "      <th></th>\n",
       "      <th>count</th>\n",
       "      <th>mean</th>\n",
       "      <th>std</th>\n",
       "      <th>min</th>\n",
       "      <th>25%</th>\n",
       "      <th>50%</th>\n",
       "      <th>75%</th>\n",
       "      <th>max</th>\n",
       "    </tr>\n",
       "  </thead>\n",
       "  <tbody>\n",
       "    <tr>\n",
       "      <th>year</th>\n",
       "      <td>12988.0</td>\n",
       "      <td>2017.281876</td>\n",
       "      <td>2.228515</td>\n",
       "      <td>1970.0</td>\n",
       "      <td>2016.000</td>\n",
       "      <td>2018.0</td>\n",
       "      <td>2019.00</td>\n",
       "      <td>2020.0</td>\n",
       "    </tr>\n",
       "    <tr>\n",
       "      <th>price</th>\n",
       "      <td>12988.0</td>\n",
       "      <td>24074.926933</td>\n",
       "      <td>9866.224575</td>\n",
       "      <td>650.0</td>\n",
       "      <td>17357.500</td>\n",
       "      <td>22299.0</td>\n",
       "      <td>28706.00</td>\n",
       "      <td>65990.0</td>\n",
       "    </tr>\n",
       "    <tr>\n",
       "      <th>mileage</th>\n",
       "      <td>12988.0</td>\n",
       "      <td>22132.741146</td>\n",
       "      <td>21196.776401</td>\n",
       "      <td>1.0</td>\n",
       "      <td>6322.000</td>\n",
       "      <td>15369.5</td>\n",
       "      <td>31982.25</td>\n",
       "      <td>259000.0</td>\n",
       "    </tr>\n",
       "    <tr>\n",
       "      <th>tax</th>\n",
       "      <td>12988.0</td>\n",
       "      <td>129.689714</td>\n",
       "      <td>65.183076</td>\n",
       "      <td>0.0</td>\n",
       "      <td>125.000</td>\n",
       "      <td>145.0</td>\n",
       "      <td>145.00</td>\n",
       "      <td>580.0</td>\n",
       "    </tr>\n",
       "    <tr>\n",
       "      <th>mpg</th>\n",
       "      <td>12988.0</td>\n",
       "      <td>55.437142</td>\n",
       "      <td>15.025999</td>\n",
       "      <td>1.1</td>\n",
       "      <td>45.600</td>\n",
       "      <td>56.5</td>\n",
       "      <td>64.20</td>\n",
       "      <td>217.3</td>\n",
       "    </tr>\n",
       "    <tr>\n",
       "      <th>engineSize</th>\n",
       "      <td>12988.0</td>\n",
       "      <td>2.050901</td>\n",
       "      <td>0.532596</td>\n",
       "      <td>0.0</td>\n",
       "      <td>1.675</td>\n",
       "      <td>2.0</td>\n",
       "      <td>2.10</td>\n",
       "      <td>6.2</td>\n",
       "    </tr>\n",
       "  </tbody>\n",
       "</table>\n",
       "</div>"
      ],
      "text/plain": [
       "              count          mean           std     min        25%      50%  \\\n",
       "year        12988.0   2017.281876      2.228515  1970.0   2016.000   2018.0   \n",
       "price       12988.0  24074.926933   9866.224575   650.0  17357.500  22299.0   \n",
       "mileage     12988.0  22132.741146  21196.776401     1.0   6322.000  15369.5   \n",
       "tax         12988.0    129.689714     65.183076     0.0    125.000    145.0   \n",
       "mpg         12988.0     55.437142     15.025999     1.1     45.600     56.5   \n",
       "engineSize  12988.0      2.050901      0.532596     0.0      1.675      2.0   \n",
       "\n",
       "                 75%       max  \n",
       "year         2019.00    2020.0  \n",
       "price       28706.00   65990.0  \n",
       "mileage     31982.25  259000.0  \n",
       "tax           145.00     580.0  \n",
       "mpg            64.20     217.3  \n",
       "engineSize      2.10       6.2  "
      ]
     },
     "execution_count": 20,
     "metadata": {},
     "output_type": "execute_result"
    }
   ],
   "source": [
    "dataFrame.describe().T"
   ]
  },
  {
   "cell_type": "code",
   "execution_count": 21,
   "metadata": {},
   "outputs": [],
   "source": [
    "dataFrame = dataFrame[dataFrame.year != 1970]"
   ]
  },
  {
   "cell_type": "code",
   "execution_count": 22,
   "metadata": {},
   "outputs": [
    {
     "data": {
      "text/plain": [
       "year\n",
       "1997     9995.000000\n",
       "1998     8605.000000\n",
       "1999     5995.000000\n",
       "2000     5743.333333\n",
       "2001     4957.900000\n",
       "2002     5820.444444\n",
       "2003     4878.000000\n",
       "2004     4727.615385\n",
       "2005     4426.111111\n",
       "2006     4036.875000\n",
       "2007     5136.045455\n",
       "2008     6967.437500\n",
       "2009     6166.764706\n",
       "2010     8308.473684\n",
       "2011     8913.459459\n",
       "2012    10845.140351\n",
       "2013    11939.842466\n",
       "2014    14042.936864\n",
       "2015    16647.822222\n",
       "2016    19223.558943\n",
       "2017    21356.280421\n",
       "2018    24800.844506\n",
       "2019    30289.524832\n",
       "2020    34234.794872\n",
       "Name: price, dtype: float64"
      ]
     },
     "execution_count": 22,
     "metadata": {},
     "output_type": "execute_result"
    }
   ],
   "source": [
    "dataFrame.groupby(\"year\").mean()[\"price\"]"
   ]
  },
  {
   "cell_type": "code",
   "execution_count": 23,
   "metadata": {},
   "outputs": [
    {
     "data": {
      "text/html": [
       "<div>\n",
       "<style scoped>\n",
       "    .dataframe tbody tr th:only-of-type {\n",
       "        vertical-align: middle;\n",
       "    }\n",
       "\n",
       "    .dataframe tbody tr th {\n",
       "        vertical-align: top;\n",
       "    }\n",
       "\n",
       "    .dataframe thead th {\n",
       "        text-align: right;\n",
       "    }\n",
       "</style>\n",
       "<table border=\"1\" class=\"dataframe\">\n",
       "  <thead>\n",
       "    <tr style=\"text-align: right;\">\n",
       "      <th></th>\n",
       "      <th>model</th>\n",
       "      <th>year</th>\n",
       "      <th>price</th>\n",
       "      <th>transmission</th>\n",
       "      <th>mileage</th>\n",
       "      <th>fuelType</th>\n",
       "      <th>tax</th>\n",
       "      <th>mpg</th>\n",
       "      <th>engineSize</th>\n",
       "    </tr>\n",
       "  </thead>\n",
       "  <tbody>\n",
       "    <tr>\n",
       "      <th>6177</th>\n",
       "      <td>GLS Class</td>\n",
       "      <td>2019</td>\n",
       "      <td>65990</td>\n",
       "      <td>Semi-Auto</td>\n",
       "      <td>5076</td>\n",
       "      <td>Diesel</td>\n",
       "      <td>150</td>\n",
       "      <td>30.4</td>\n",
       "      <td>3.0</td>\n",
       "    </tr>\n",
       "    <tr>\n",
       "      <th>5779</th>\n",
       "      <td>C Class</td>\n",
       "      <td>2020</td>\n",
       "      <td>65990</td>\n",
       "      <td>Semi-Auto</td>\n",
       "      <td>999</td>\n",
       "      <td>Petrol</td>\n",
       "      <td>145</td>\n",
       "      <td>28.0</td>\n",
       "      <td>4.0</td>\n",
       "    </tr>\n",
       "    <tr>\n",
       "      <th>3191</th>\n",
       "      <td>C Class</td>\n",
       "      <td>2020</td>\n",
       "      <td>65980</td>\n",
       "      <td>Semi-Auto</td>\n",
       "      <td>3999</td>\n",
       "      <td>Petrol</td>\n",
       "      <td>145</td>\n",
       "      <td>28.0</td>\n",
       "      <td>4.0</td>\n",
       "    </tr>\n",
       "    <tr>\n",
       "      <th>4727</th>\n",
       "      <td>C Class</td>\n",
       "      <td>2019</td>\n",
       "      <td>65000</td>\n",
       "      <td>Semi-Auto</td>\n",
       "      <td>3398</td>\n",
       "      <td>Petrol</td>\n",
       "      <td>145</td>\n",
       "      <td>27.2</td>\n",
       "      <td>4.0</td>\n",
       "    </tr>\n",
       "    <tr>\n",
       "      <th>8814</th>\n",
       "      <td>S Class</td>\n",
       "      <td>2019</td>\n",
       "      <td>64999</td>\n",
       "      <td>Semi-Auto</td>\n",
       "      <td>119</td>\n",
       "      <td>Petrol</td>\n",
       "      <td>145</td>\n",
       "      <td>40.9</td>\n",
       "      <td>3.0</td>\n",
       "    </tr>\n",
       "  </tbody>\n",
       "</table>\n",
       "</div>"
      ],
      "text/plain": [
       "           model  year  price transmission  mileage fuelType  tax   mpg  \\\n",
       "6177   GLS Class  2019  65990    Semi-Auto     5076   Diesel  150  30.4   \n",
       "5779     C Class  2020  65990    Semi-Auto      999   Petrol  145  28.0   \n",
       "3191     C Class  2020  65980    Semi-Auto     3999   Petrol  145  28.0   \n",
       "4727     C Class  2019  65000    Semi-Auto     3398   Petrol  145  27.2   \n",
       "8814     S Class  2019  64999    Semi-Auto      119   Petrol  145  40.9   \n",
       "\n",
       "      engineSize  \n",
       "6177         3.0  \n",
       "5779         4.0  \n",
       "3191         4.0  \n",
       "4727         4.0  \n",
       "8814         3.0  "
      ]
     },
     "execution_count": 23,
     "metadata": {},
     "output_type": "execute_result"
    }
   ],
   "source": [
    "dataFrame.head()"
   ]
  },
  {
   "cell_type": "code",
   "execution_count": 24,
   "metadata": {},
   "outputs": [
    {
     "data": {
      "text/html": [
       "<div>\n",
       "<style scoped>\n",
       "    .dataframe tbody tr th:only-of-type {\n",
       "        vertical-align: middle;\n",
       "    }\n",
       "\n",
       "    .dataframe tbody tr th {\n",
       "        vertical-align: top;\n",
       "    }\n",
       "\n",
       "    .dataframe thead th {\n",
       "        text-align: right;\n",
       "    }\n",
       "</style>\n",
       "<table border=\"1\" class=\"dataframe\">\n",
       "  <thead>\n",
       "    <tr style=\"text-align: right;\">\n",
       "      <th></th>\n",
       "      <th>year</th>\n",
       "      <th>price</th>\n",
       "      <th>mileage</th>\n",
       "      <th>tax</th>\n",
       "      <th>mpg</th>\n",
       "      <th>engineSize</th>\n",
       "    </tr>\n",
       "  </thead>\n",
       "  <tbody>\n",
       "    <tr>\n",
       "      <th>6177</th>\n",
       "      <td>2019</td>\n",
       "      <td>65990</td>\n",
       "      <td>5076</td>\n",
       "      <td>150</td>\n",
       "      <td>30.4</td>\n",
       "      <td>3.0</td>\n",
       "    </tr>\n",
       "    <tr>\n",
       "      <th>5779</th>\n",
       "      <td>2020</td>\n",
       "      <td>65990</td>\n",
       "      <td>999</td>\n",
       "      <td>145</td>\n",
       "      <td>28.0</td>\n",
       "      <td>4.0</td>\n",
       "    </tr>\n",
       "    <tr>\n",
       "      <th>3191</th>\n",
       "      <td>2020</td>\n",
       "      <td>65980</td>\n",
       "      <td>3999</td>\n",
       "      <td>145</td>\n",
       "      <td>28.0</td>\n",
       "      <td>4.0</td>\n",
       "    </tr>\n",
       "    <tr>\n",
       "      <th>4727</th>\n",
       "      <td>2019</td>\n",
       "      <td>65000</td>\n",
       "      <td>3398</td>\n",
       "      <td>145</td>\n",
       "      <td>27.2</td>\n",
       "      <td>4.0</td>\n",
       "    </tr>\n",
       "    <tr>\n",
       "      <th>8814</th>\n",
       "      <td>2019</td>\n",
       "      <td>64999</td>\n",
       "      <td>119</td>\n",
       "      <td>145</td>\n",
       "      <td>40.9</td>\n",
       "      <td>3.0</td>\n",
       "    </tr>\n",
       "  </tbody>\n",
       "</table>\n",
       "</div>"
      ],
      "text/plain": [
       "      year  price  mileage  tax   mpg  engineSize\n",
       "6177  2019  65990     5076  150  30.4         3.0\n",
       "5779  2020  65990      999  145  28.0         4.0\n",
       "3191  2020  65980     3999  145  28.0         4.0\n",
       "4727  2019  65000     3398  145  27.2         4.0\n",
       "8814  2019  64999      119  145  40.9         3.0"
      ]
     },
     "execution_count": 24,
     "metadata": {},
     "output_type": "execute_result"
    }
   ],
   "source": [
    "dataFrame= dataFrame.drop([\"model\",\"transmission\",\"fuelType\"],axis=1)\n",
    "dataFrame.head()"
   ]
  },
  {
   "cell_type": "code",
   "execution_count": 25,
   "metadata": {},
   "outputs": [],
   "source": [
    "y = dataFrame[\"price\"].values\n",
    "x= dataFrame.drop(\"price\",axis=1).values"
   ]
  },
  {
   "cell_type": "code",
   "execution_count": 26,
   "metadata": {},
   "outputs": [
    {
     "data": {
      "text/plain": [
       "array([65990, 65990, 65980, ...,  1490,  1350,   650], dtype=int64)"
      ]
     },
     "execution_count": 26,
     "metadata": {},
     "output_type": "execute_result"
    }
   ],
   "source": [
    "y"
   ]
  },
  {
   "cell_type": "code",
   "execution_count": 27,
   "metadata": {},
   "outputs": [
    {
     "data": {
      "text/plain": [
       "array([[2.01900e+03, 5.07600e+03, 1.50000e+02, 3.04000e+01, 3.00000e+00],\n",
       "       [2.02000e+03, 9.99000e+02, 1.45000e+02, 2.80000e+01, 4.00000e+00],\n",
       "       [2.02000e+03, 3.99900e+03, 1.45000e+02, 2.80000e+01, 4.00000e+00],\n",
       "       ...,\n",
       "       [2.00000e+03, 8.70000e+04, 2.65000e+02, 2.72000e+01, 3.20000e+00],\n",
       "       [2.01000e+03, 1.16126e+05, 1.45000e+02, 5.43000e+01, 2.00000e+00],\n",
       "       [2.00300e+03, 1.09090e+05, 2.35000e+02, 4.00000e+01, 1.40000e+00]])"
      ]
     },
     "execution_count": 27,
     "metadata": {},
     "output_type": "execute_result"
    }
   ],
   "source": [
    "x"
   ]
  },
  {
   "cell_type": "code",
   "execution_count": 28,
   "metadata": {},
   "outputs": [],
   "source": [
    "from sklearn.model_selection import train_test_split"
   ]
  },
  {
   "cell_type": "code",
   "execution_count": 29,
   "metadata": {},
   "outputs": [],
   "source": [
    "x_train, x_test, y_train, y_test = train_test_split(x, y, test_size=0.3, random_state=10)"
   ]
  },
  {
   "cell_type": "code",
   "execution_count": 30,
   "metadata": {},
   "outputs": [
    {
     "data": {
      "text/plain": [
       "9090"
      ]
     },
     "execution_count": 30,
     "metadata": {},
     "output_type": "execute_result"
    }
   ],
   "source": [
    "len(x_train)"
   ]
  },
  {
   "cell_type": "code",
   "execution_count": 31,
   "metadata": {},
   "outputs": [
    {
     "data": {
      "text/plain": [
       "3897"
      ]
     },
     "execution_count": 31,
     "metadata": {},
     "output_type": "execute_result"
    }
   ],
   "source": [
    "len(x_test)"
   ]
  },
  {
   "cell_type": "code",
   "execution_count": 32,
   "metadata": {},
   "outputs": [],
   "source": [
    "from sklearn.preprocessing import MinMaxScaler"
   ]
  },
  {
   "cell_type": "code",
   "execution_count": 33,
   "metadata": {},
   "outputs": [],
   "source": [
    "scaler= MinMaxScaler()"
   ]
  },
  {
   "cell_type": "code",
   "execution_count": 34,
   "metadata": {},
   "outputs": [],
   "source": [
    "x_train = scaler.fit_transform(x_train)"
   ]
  },
  {
   "cell_type": "code",
   "execution_count": 35,
   "metadata": {},
   "outputs": [],
   "source": [
    "x_test= scaler.fit_transform(x_test)"
   ]
  },
  {
   "cell_type": "code",
   "execution_count": 36,
   "metadata": {},
   "outputs": [],
   "source": [
    "from tensorflow import keras\n",
    "from tensorflow.keras.models import Sequential\n",
    "from tensorflow.keras.layers import Dense"
   ]
  },
  {
   "cell_type": "code",
   "execution_count": 37,
   "metadata": {},
   "outputs": [
    {
     "data": {
      "text/plain": [
       "(9090, 5)"
      ]
     },
     "execution_count": 37,
     "metadata": {},
     "output_type": "execute_result"
    }
   ],
   "source": [
    "x_train.shape"
   ]
  },
  {
   "cell_type": "code",
   "execution_count": 38,
   "metadata": {},
   "outputs": [],
   "source": [
    "model = Sequential()\n",
    "\n",
    "model.add(Dense(12,activation=\"relu\"))\n",
    "model.add(Dense(12,activation=\"relu\"))\n",
    "model.add(Dense(12,activation=\"relu\"))\n",
    "model.add(Dense(12,activation=\"relu\"))\n",
    "\n",
    "model.add(Dense(1))\n",
    "\n",
    "model.compile(optimizer= \"adam\",loss=\"mse\")\n"
   ]
  },
  {
   "cell_type": "code",
   "execution_count": 39,
   "metadata": {},
   "outputs": [
    {
     "name": "stdout",
     "output_type": "stream",
     "text": [
      "Epoch 1/300\n",
      "37/37 [==============================] - 2s 11ms/step - loss: 672145472.0000 - val_loss: 688104832.0000\n",
      "Epoch 2/300\n",
      "37/37 [==============================] - 0s 3ms/step - loss: 672126720.0000 - val_loss: 688069696.0000\n",
      "Epoch 3/300\n",
      "37/37 [==============================] - 0s 4ms/step - loss: 672060992.0000 - val_loss: 687947584.0000\n",
      "Epoch 4/300\n",
      "37/37 [==============================] - 0s 3ms/step - loss: 671836288.0000 - val_loss: 687543040.0000\n",
      "Epoch 5/300\n",
      "37/37 [==============================] - 0s 4ms/step - loss: 671143232.0000 - val_loss: 686380800.0000\n",
      "Epoch 6/300\n",
      "37/37 [==============================] - 0s 4ms/step - loss: 669326016.0000 - val_loss: 683522496.0000\n",
      "Epoch 7/300\n",
      "37/37 [==============================] - 0s 4ms/step - loss: 665144384.0000 - val_loss: 677322304.0000\n",
      "Epoch 8/300\n",
      "37/37 [==============================] - 0s 3ms/step - loss: 656600640.0000 - val_loss: 665230656.0000\n",
      "Epoch 9/300\n",
      "37/37 [==============================] - 0s 3ms/step - loss: 640778880.0000 - val_loss: 643907136.0000\n",
      "Epoch 10/300\n",
      "37/37 [==============================] - 0s 3ms/step - loss: 614179456.0000 - val_loss: 609580032.0000\n",
      "Epoch 11/300\n",
      "37/37 [==============================] - 0s 3ms/step - loss: 573174848.0000 - val_loss: 558904256.0000\n",
      "Epoch 12/300\n",
      "37/37 [==============================] - 0s 4ms/step - loss: 515101024.0000 - val_loss: 490085024.0000\n",
      "Epoch 13/300\n",
      "37/37 [==============================] - 0s 4ms/step - loss: 439749568.0000 - val_loss: 405268800.0000\n",
      "Epoch 14/300\n",
      "37/37 [==============================] - 0s 4ms/step - loss: 351871904.0000 - val_loss: 312125824.0000\n",
      "Epoch 15/300\n",
      "37/37 [==============================] - 0s 4ms/step - loss: 261554096.0000 - val_loss: 224104688.0000\n",
      "Epoch 16/300\n",
      "37/37 [==============================] - 0s 4ms/step - loss: 183353536.0000 - val_loss: 156124144.0000\n",
      "Epoch 17/300\n",
      "37/37 [==============================] - 0s 3ms/step - loss: 129566936.0000 - val_loss: 116418872.0000\n",
      "Epoch 18/300\n",
      "37/37 [==============================] - 0s 3ms/step - loss: 102293848.0000 - val_loss: 100004080.0000\n",
      "Epoch 19/300\n",
      "37/37 [==============================] - 0s 3ms/step - loss: 92364064.0000 - val_loss: 94985488.0000\n",
      "Epoch 20/300\n",
      "37/37 [==============================] - 0s 4ms/step - loss: 89549384.0000 - val_loss: 93415224.0000\n",
      "Epoch 21/300\n",
      "37/37 [==============================] - 0s 4ms/step - loss: 88580624.0000 - val_loss: 92531864.0000\n",
      "Epoch 22/300\n",
      "37/37 [==============================] - 0s 3ms/step - loss: 87990120.0000 - val_loss: 91793104.0000\n",
      "Epoch 23/300\n",
      "37/37 [==============================] - 0s 3ms/step - loss: 87453136.0000 - val_loss: 91100504.0000\n",
      "Epoch 24/300\n",
      "37/37 [==============================] - 0s 3ms/step - loss: 86946320.0000 - val_loss: 90447048.0000\n",
      "Epoch 25/300\n",
      "37/37 [==============================] - 0s 4ms/step - loss: 86455816.0000 - val_loss: 89823208.0000\n",
      "Epoch 26/300\n",
      "37/37 [==============================] - 0s 4ms/step - loss: 85988656.0000 - val_loss: 89212824.0000\n",
      "Epoch 27/300\n",
      "37/37 [==============================] - 0s 6ms/step - loss: 85525072.0000 - val_loss: 88624416.0000\n",
      "Epoch 28/300\n",
      "37/37 [==============================] - 0s 11ms/step - loss: 85077584.0000 - val_loss: 88058840.0000\n",
      "Epoch 29/300\n",
      "37/37 [==============================] - 0s 5ms/step - loss: 84629856.0000 - val_loss: 87489032.0000\n",
      "Epoch 30/300\n",
      "37/37 [==============================] - 0s 8ms/step - loss: 84214120.0000 - val_loss: 86927096.0000\n",
      "Epoch 31/300\n",
      "37/37 [==============================] - 0s 6ms/step - loss: 83775296.0000 - val_loss: 86385088.0000\n",
      "Epoch 32/300\n",
      "37/37 [==============================] - 0s 6ms/step - loss: 83344816.0000 - val_loss: 85866464.0000\n",
      "Epoch 33/300\n",
      "37/37 [==============================] - 0s 5ms/step - loss: 82919664.0000 - val_loss: 85324248.0000\n",
      "Epoch 34/300\n",
      "37/37 [==============================] - 0s 3ms/step - loss: 82505360.0000 - val_loss: 84803136.0000\n",
      "Epoch 35/300\n",
      "37/37 [==============================] - 0s 4ms/step - loss: 82089800.0000 - val_loss: 84298168.0000\n",
      "Epoch 36/300\n",
      "37/37 [==============================] - 0s 4ms/step - loss: 81678544.0000 - val_loss: 83778696.0000\n",
      "Epoch 37/300\n",
      "37/37 [==============================] - 0s 3ms/step - loss: 81270120.0000 - val_loss: 83259952.0000\n",
      "Epoch 38/300\n",
      "37/37 [==============================] - 0s 3ms/step - loss: 80868344.0000 - val_loss: 82778056.0000\n",
      "Epoch 39/300\n",
      "37/37 [==============================] - 0s 3ms/step - loss: 80452176.0000 - val_loss: 82268888.0000\n",
      "Epoch 40/300\n",
      "37/37 [==============================] - 0s 3ms/step - loss: 80052520.0000 - val_loss: 81738520.0000\n",
      "Epoch 41/300\n",
      "37/37 [==============================] - 0s 4ms/step - loss: 79643840.0000 - val_loss: 81259960.0000\n",
      "Epoch 42/300\n",
      "37/37 [==============================] - 0s 3ms/step - loss: 79238432.0000 - val_loss: 80755432.0000\n",
      "Epoch 43/300\n",
      "37/37 [==============================] - 0s 3ms/step - loss: 78835184.0000 - val_loss: 80288304.0000\n",
      "Epoch 44/300\n",
      "37/37 [==============================] - 0s 3ms/step - loss: 78434616.0000 - val_loss: 79786632.0000\n",
      "Epoch 45/300\n",
      "37/37 [==============================] - 0s 3ms/step - loss: 78030536.0000 - val_loss: 79289968.0000\n",
      "Epoch 46/300\n",
      "37/37 [==============================] - 0s 3ms/step - loss: 77639680.0000 - val_loss: 78823536.0000\n",
      "Epoch 47/300\n",
      "37/37 [==============================] - 0s 3ms/step - loss: 77218264.0000 - val_loss: 78298112.0000\n",
      "Epoch 48/300\n",
      "37/37 [==============================] - 0s 3ms/step - loss: 76820888.0000 - val_loss: 77840680.0000\n",
      "Epoch 49/300\n",
      "37/37 [==============================] - 0s 3ms/step - loss: 76412640.0000 - val_loss: 77327384.0000\n",
      "Epoch 50/300\n",
      "37/37 [==============================] - 0s 3ms/step - loss: 76010408.0000 - val_loss: 76838064.0000\n",
      "Epoch 51/300\n",
      "37/37 [==============================] - 0s 3ms/step - loss: 75607672.0000 - val_loss: 76363384.0000\n",
      "Epoch 52/300\n",
      "37/37 [==============================] - 0s 3ms/step - loss: 75200256.0000 - val_loss: 75891352.0000\n",
      "Epoch 53/300\n",
      "37/37 [==============================] - 0s 3ms/step - loss: 74800656.0000 - val_loss: 75353488.0000\n",
      "Epoch 54/300\n",
      "37/37 [==============================] - 0s 3ms/step - loss: 74370568.0000 - val_loss: 74912800.0000\n",
      "Epoch 55/300\n",
      "37/37 [==============================] - 0s 3ms/step - loss: 73961672.0000 - val_loss: 74408656.0000\n",
      "Epoch 56/300\n",
      "37/37 [==============================] - 0s 3ms/step - loss: 73545656.0000 - val_loss: 73869168.0000\n",
      "Epoch 57/300\n",
      "37/37 [==============================] - 0s 2ms/step - loss: 73123032.0000 - val_loss: 73460144.0000\n",
      "Epoch 58/300\n",
      "37/37 [==============================] - 0s 3ms/step - loss: 72711560.0000 - val_loss: 72939312.0000\n",
      "Epoch 59/300\n",
      "37/37 [==============================] - 0s 3ms/step - loss: 72311824.0000 - val_loss: 72440592.0000\n",
      "Epoch 60/300\n",
      "37/37 [==============================] - 0s 3ms/step - loss: 71864760.0000 - val_loss: 71926864.0000\n",
      "Epoch 61/300\n",
      "37/37 [==============================] - 0s 3ms/step - loss: 71451512.0000 - val_loss: 71427808.0000\n",
      "Epoch 62/300\n",
      "37/37 [==============================] - 0s 3ms/step - loss: 71013016.0000 - val_loss: 70935272.0000\n",
      "Epoch 63/300\n",
      "37/37 [==============================] - 0s 3ms/step - loss: 70588048.0000 - val_loss: 70443464.0000\n",
      "Epoch 64/300\n",
      "37/37 [==============================] - 0s 3ms/step - loss: 70146824.0000 - val_loss: 69910264.0000\n",
      "Epoch 65/300\n",
      "37/37 [==============================] - 0s 3ms/step - loss: 69713912.0000 - val_loss: 69417728.0000\n",
      "Epoch 66/300\n",
      "37/37 [==============================] - 0s 3ms/step - loss: 69268504.0000 - val_loss: 68895160.0000\n",
      "Epoch 67/300\n",
      "37/37 [==============================] - 0s 3ms/step - loss: 68823376.0000 - val_loss: 68327728.0000\n",
      "Epoch 68/300\n",
      "37/37 [==============================] - 0s 4ms/step - loss: 68372760.0000 - val_loss: 67831792.0000\n",
      "Epoch 69/300\n",
      "37/37 [==============================] - 0s 6ms/step - loss: 67929016.0000 - val_loss: 67364400.0000\n",
      "Epoch 70/300\n",
      "37/37 [==============================] - 0s 3ms/step - loss: 67474376.0000 - val_loss: 66765124.0000\n",
      "Epoch 71/300\n",
      "37/37 [==============================] - 0s 3ms/step - loss: 67008672.0000 - val_loss: 66304744.0000\n",
      "Epoch 72/300\n",
      "37/37 [==============================] - 0s 4ms/step - loss: 66543488.0000 - val_loss: 65794192.0000\n",
      "Epoch 73/300\n",
      "37/37 [==============================] - 0s 4ms/step - loss: 66069948.0000 - val_loss: 65143188.0000\n",
      "Epoch 74/300\n",
      "37/37 [==============================] - 0s 3ms/step - loss: 65592616.0000 - val_loss: 64666820.0000\n",
      "Epoch 75/300\n",
      "37/37 [==============================] - 0s 3ms/step - loss: 65118200.0000 - val_loss: 64033472.0000\n",
      "Epoch 76/300\n",
      "37/37 [==============================] - 0s 3ms/step - loss: 64623544.0000 - val_loss: 63579272.0000\n",
      "Epoch 77/300\n",
      "37/37 [==============================] - 0s 3ms/step - loss: 64133416.0000 - val_loss: 62995656.0000\n",
      "Epoch 78/300\n",
      "37/37 [==============================] - 0s 4ms/step - loss: 63641692.0000 - val_loss: 62362544.0000\n",
      "Epoch 79/300\n",
      "37/37 [==============================] - 0s 4ms/step - loss: 63128744.0000 - val_loss: 61805856.0000\n",
      "Epoch 80/300\n",
      "37/37 [==============================] - 0s 4ms/step - loss: 62613780.0000 - val_loss: 61308324.0000\n",
      "Epoch 81/300\n",
      "37/37 [==============================] - 0s 3ms/step - loss: 62101280.0000 - val_loss: 60703084.0000\n",
      "Epoch 82/300\n",
      "37/37 [==============================] - 0s 3ms/step - loss: 61579304.0000 - val_loss: 60037864.0000\n",
      "Epoch 83/300\n",
      "37/37 [==============================] - 0s 3ms/step - loss: 61048724.0000 - val_loss: 59561544.0000\n",
      "Epoch 84/300\n",
      "37/37 [==============================] - 0s 3ms/step - loss: 60490140.0000 - val_loss: 58799216.0000\n",
      "Epoch 85/300\n",
      "37/37 [==============================] - 0s 3ms/step - loss: 59958512.0000 - val_loss: 58292988.0000\n",
      "Epoch 86/300\n",
      "37/37 [==============================] - 0s 3ms/step - loss: 59387016.0000 - val_loss: 57540660.0000\n",
      "Epoch 87/300\n",
      "37/37 [==============================] - 0s 4ms/step - loss: 58833136.0000 - val_loss: 57074712.0000\n",
      "Epoch 88/300\n",
      "37/37 [==============================] - 0s 3ms/step - loss: 58260004.0000 - val_loss: 56297332.0000\n",
      "Epoch 89/300\n",
      "37/37 [==============================] - 0s 3ms/step - loss: 57680116.0000 - val_loss: 55611712.0000\n",
      "Epoch 90/300\n",
      "37/37 [==============================] - 0s 3ms/step - loss: 57096508.0000 - val_loss: 55009188.0000\n",
      "Epoch 91/300\n",
      "37/37 [==============================] - 0s 3ms/step - loss: 56491092.0000 - val_loss: 54386808.0000\n",
      "Epoch 92/300\n",
      "37/37 [==============================] - 0s 3ms/step - loss: 55890296.0000 - val_loss: 53911836.0000\n",
      "Epoch 93/300\n",
      "37/37 [==============================] - 0s 3ms/step - loss: 55280512.0000 - val_loss: 53056132.0000\n",
      "Epoch 94/300\n",
      "37/37 [==============================] - 0s 3ms/step - loss: 54615196.0000 - val_loss: 52278376.0000\n",
      "Epoch 95/300\n",
      "37/37 [==============================] - 0s 3ms/step - loss: 53953988.0000 - val_loss: 51675456.0000\n",
      "Epoch 96/300\n",
      "37/37 [==============================] - 0s 3ms/step - loss: 53307404.0000 - val_loss: 50903500.0000\n",
      "Epoch 97/300\n",
      "37/37 [==============================] - 0s 3ms/step - loss: 52643552.0000 - val_loss: 50302808.0000\n",
      "Epoch 98/300\n",
      "37/37 [==============================] - 0s 4ms/step - loss: 51966384.0000 - val_loss: 49513856.0000\n",
      "Epoch 99/300\n",
      "37/37 [==============================] - 0s 3ms/step - loss: 51262144.0000 - val_loss: 49019524.0000\n",
      "Epoch 100/300\n",
      "37/37 [==============================] - 0s 3ms/step - loss: 50554352.0000 - val_loss: 48084988.0000\n",
      "Epoch 101/300\n",
      "37/37 [==============================] - 0s 3ms/step - loss: 49857708.0000 - val_loss: 47608468.0000\n",
      "Epoch 102/300\n",
      "37/37 [==============================] - 0s 3ms/step - loss: 49160296.0000 - val_loss: 46599608.0000\n",
      "Epoch 103/300\n",
      "37/37 [==============================] - 0s 3ms/step - loss: 48421364.0000 - val_loss: 45969164.0000\n",
      "Epoch 104/300\n",
      "37/37 [==============================] - 0s 3ms/step - loss: 47689752.0000 - val_loss: 45390592.0000\n",
      "Epoch 105/300\n",
      "37/37 [==============================] - 0s 3ms/step - loss: 46962528.0000 - val_loss: 44451740.0000\n",
      "Epoch 106/300\n",
      "37/37 [==============================] - 0s 3ms/step - loss: 46234944.0000 - val_loss: 43822724.0000\n",
      "Epoch 107/300\n",
      "37/37 [==============================] - 0s 3ms/step - loss: 45456500.0000 - val_loss: 43377880.0000\n",
      "Epoch 108/300\n",
      "37/37 [==============================] - 0s 3ms/step - loss: 44726172.0000 - val_loss: 42358892.0000\n",
      "Epoch 109/300\n",
      "37/37 [==============================] - 0s 2ms/step - loss: 43973704.0000 - val_loss: 41692416.0000\n",
      "Epoch 110/300\n",
      "37/37 [==============================] - 0s 3ms/step - loss: 43232328.0000 - val_loss: 41092960.0000\n",
      "Epoch 111/300\n",
      "37/37 [==============================] - 0s 3ms/step - loss: 42496576.0000 - val_loss: 40689228.0000\n",
      "Epoch 112/300\n",
      "37/37 [==============================] - 0s 3ms/step - loss: 41770596.0000 - val_loss: 39919484.0000\n",
      "Epoch 113/300\n",
      "37/37 [==============================] - 0s 3ms/step - loss: 41025724.0000 - val_loss: 39366908.0000\n",
      "Epoch 114/300\n",
      "37/37 [==============================] - 0s 3ms/step - loss: 40316560.0000 - val_loss: 38775660.0000\n",
      "Epoch 115/300\n",
      "37/37 [==============================] - 0s 4ms/step - loss: 39621696.0000 - val_loss: 38473052.0000\n",
      "Epoch 116/300\n",
      "37/37 [==============================] - 0s 3ms/step - loss: 38933120.0000 - val_loss: 37295104.0000\n",
      "Epoch 117/300\n",
      "37/37 [==============================] - 0s 3ms/step - loss: 38262764.0000 - val_loss: 37036584.0000\n",
      "Epoch 118/300\n",
      "37/37 [==============================] - 0s 3ms/step - loss: 37582652.0000 - val_loss: 36597748.0000\n",
      "Epoch 119/300\n",
      "37/37 [==============================] - 0s 3ms/step - loss: 36936916.0000 - val_loss: 36016956.0000\n",
      "Epoch 120/300\n",
      "37/37 [==============================] - 0s 3ms/step - loss: 36324408.0000 - val_loss: 35509420.0000\n",
      "Epoch 121/300\n",
      "37/37 [==============================] - 0s 3ms/step - loss: 35678180.0000 - val_loss: 35722480.0000\n",
      "Epoch 122/300\n",
      "37/37 [==============================] - 0s 3ms/step - loss: 35114908.0000 - val_loss: 35030932.0000\n",
      "Epoch 123/300\n",
      "37/37 [==============================] - 0s 3ms/step - loss: 34498316.0000 - val_loss: 34773452.0000\n",
      "Epoch 124/300\n",
      "37/37 [==============================] - 0s 2ms/step - loss: 33929852.0000 - val_loss: 34393820.0000\n",
      "Epoch 125/300\n",
      "37/37 [==============================] - 0s 3ms/step - loss: 33369154.0000 - val_loss: 33710792.0000\n",
      "Epoch 126/300\n",
      "37/37 [==============================] - 0s 3ms/step - loss: 32860702.0000 - val_loss: 33556528.0000\n",
      "Epoch 127/300\n",
      "37/37 [==============================] - 0s 3ms/step - loss: 32326172.0000 - val_loss: 32786730.0000\n",
      "Epoch 128/300\n",
      "37/37 [==============================] - 0s 2ms/step - loss: 31881822.0000 - val_loss: 32533526.0000\n",
      "Epoch 129/300\n",
      "37/37 [==============================] - 0s 2ms/step - loss: 31366726.0000 - val_loss: 32613300.0000\n",
      "Epoch 130/300\n",
      "37/37 [==============================] - 0s 2ms/step - loss: 30898172.0000 - val_loss: 32129914.0000\n",
      "Epoch 131/300\n",
      "37/37 [==============================] - 0s 3ms/step - loss: 30453314.0000 - val_loss: 32284190.0000\n",
      "Epoch 132/300\n",
      "37/37 [==============================] - 0s 2ms/step - loss: 30049910.0000 - val_loss: 31319196.0000\n",
      "Epoch 133/300\n",
      "37/37 [==============================] - 0s 3ms/step - loss: 29630072.0000 - val_loss: 31573378.0000\n",
      "Epoch 134/300\n",
      "37/37 [==============================] - 0s 3ms/step - loss: 29212736.0000 - val_loss: 30839948.0000\n",
      "Epoch 135/300\n",
      "37/37 [==============================] - 0s 3ms/step - loss: 28839376.0000 - val_loss: 30607948.0000\n",
      "Epoch 136/300\n",
      "37/37 [==============================] - 0s 3ms/step - loss: 28471242.0000 - val_loss: 30654702.0000\n",
      "Epoch 137/300\n",
      "37/37 [==============================] - 0s 3ms/step - loss: 28134198.0000 - val_loss: 30168460.0000\n",
      "Epoch 138/300\n",
      "37/37 [==============================] - 0s 3ms/step - loss: 27820686.0000 - val_loss: 30196086.0000\n",
      "Epoch 139/300\n",
      "37/37 [==============================] - 0s 3ms/step - loss: 27513532.0000 - val_loss: 30230386.0000\n",
      "Epoch 140/300\n",
      "37/37 [==============================] - 0s 3ms/step - loss: 27251816.0000 - val_loss: 30229716.0000\n",
      "Epoch 141/300\n",
      "37/37 [==============================] - 0s 3ms/step - loss: 26969940.0000 - val_loss: 29720298.0000\n",
      "Epoch 142/300\n",
      "37/37 [==============================] - 0s 3ms/step - loss: 26706360.0000 - val_loss: 29925812.0000\n",
      "Epoch 143/300\n",
      "37/37 [==============================] - 0s 2ms/step - loss: 26473872.0000 - val_loss: 29421324.0000\n",
      "Epoch 144/300\n",
      "37/37 [==============================] - 0s 2ms/step - loss: 26247310.0000 - val_loss: 29734076.0000\n",
      "Epoch 145/300\n",
      "37/37 [==============================] - 0s 2ms/step - loss: 26044256.0000 - val_loss: 29796664.0000\n",
      "Epoch 146/300\n",
      "37/37 [==============================] - 0s 2ms/step - loss: 25837382.0000 - val_loss: 29890028.0000\n",
      "Epoch 147/300\n",
      "37/37 [==============================] - 0s 2ms/step - loss: 25686742.0000 - val_loss: 29703188.0000\n",
      "Epoch 148/300\n",
      "37/37 [==============================] - 0s 2ms/step - loss: 25441890.0000 - val_loss: 28532328.0000\n",
      "Epoch 149/300\n",
      "37/37 [==============================] - 0s 2ms/step - loss: 25306048.0000 - val_loss: 28774536.0000\n",
      "Epoch 150/300\n",
      "37/37 [==============================] - 0s 2ms/step - loss: 25121168.0000 - val_loss: 28972350.0000\n",
      "Epoch 151/300\n",
      "37/37 [==============================] - 0s 3ms/step - loss: 24930668.0000 - val_loss: 29137332.0000\n",
      "Epoch 152/300\n",
      "37/37 [==============================] - 0s 3ms/step - loss: 24765958.0000 - val_loss: 28887374.0000\n",
      "Epoch 153/300\n",
      "37/37 [==============================] - 0s 3ms/step - loss: 24603170.0000 - val_loss: 28143806.0000\n",
      "Epoch 154/300\n",
      "37/37 [==============================] - 0s 3ms/step - loss: 24463876.0000 - val_loss: 28598674.0000\n",
      "Epoch 155/300\n",
      "37/37 [==============================] - 0s 3ms/step - loss: 24312972.0000 - val_loss: 28590498.0000\n",
      "Epoch 156/300\n",
      "37/37 [==============================] - 0s 3ms/step - loss: 24121696.0000 - val_loss: 27800906.0000\n",
      "Epoch 157/300\n",
      "37/37 [==============================] - 0s 3ms/step - loss: 23982288.0000 - val_loss: 27880070.0000\n",
      "Epoch 158/300\n",
      "37/37 [==============================] - 0s 3ms/step - loss: 23821634.0000 - val_loss: 28243636.0000\n",
      "Epoch 159/300\n",
      "37/37 [==============================] - 0s 2ms/step - loss: 23666414.0000 - val_loss: 27613054.0000\n",
      "Epoch 160/300\n",
      "37/37 [==============================] - 0s 3ms/step - loss: 23491908.0000 - val_loss: 27538512.0000\n",
      "Epoch 161/300\n",
      "37/37 [==============================] - 0s 3ms/step - loss: 23333380.0000 - val_loss: 27419354.0000\n",
      "Epoch 162/300\n",
      "37/37 [==============================] - 0s 3ms/step - loss: 23203332.0000 - val_loss: 27788836.0000\n",
      "Epoch 163/300\n",
      "37/37 [==============================] - 0s 3ms/step - loss: 23051950.0000 - val_loss: 27168264.0000\n",
      "Epoch 164/300\n",
      "37/37 [==============================] - 0s 2ms/step - loss: 22905942.0000 - val_loss: 26774122.0000\n",
      "Epoch 165/300\n",
      "37/37 [==============================] - 0s 3ms/step - loss: 22775228.0000 - val_loss: 26678466.0000\n",
      "Epoch 166/300\n",
      "37/37 [==============================] - 0s 3ms/step - loss: 22641054.0000 - val_loss: 26332624.0000\n",
      "Epoch 167/300\n",
      "37/37 [==============================] - 0s 2ms/step - loss: 22526426.0000 - val_loss: 26514714.0000\n",
      "Epoch 168/300\n",
      "37/37 [==============================] - 0s 2ms/step - loss: 22402912.0000 - val_loss: 26633322.0000\n",
      "Epoch 169/300\n",
      "37/37 [==============================] - 0s 2ms/step - loss: 22283582.0000 - val_loss: 26674286.0000\n",
      "Epoch 170/300\n",
      "37/37 [==============================] - 0s 2ms/step - loss: 22194952.0000 - val_loss: 26429250.0000\n",
      "Epoch 171/300\n",
      "37/37 [==============================] - 0s 3ms/step - loss: 22085896.0000 - val_loss: 25872852.0000\n",
      "Epoch 172/300\n",
      "37/37 [==============================] - 0s 3ms/step - loss: 21989648.0000 - val_loss: 25939672.0000\n",
      "Epoch 173/300\n",
      "37/37 [==============================] - 0s 3ms/step - loss: 21898092.0000 - val_loss: 25847480.0000\n",
      "Epoch 174/300\n",
      "37/37 [==============================] - 0s 3ms/step - loss: 21820402.0000 - val_loss: 26291040.0000\n",
      "Epoch 175/300\n",
      "37/37 [==============================] - 0s 3ms/step - loss: 21741942.0000 - val_loss: 25433586.0000\n",
      "Epoch 176/300\n",
      "37/37 [==============================] - 0s 3ms/step - loss: 21667428.0000 - val_loss: 26102818.0000\n",
      "Epoch 177/300\n",
      "37/37 [==============================] - 0s 3ms/step - loss: 21586698.0000 - val_loss: 25578254.0000\n",
      "Epoch 178/300\n",
      "37/37 [==============================] - 0s 2ms/step - loss: 21532452.0000 - val_loss: 25901394.0000\n",
      "Epoch 179/300\n",
      "37/37 [==============================] - 0s 3ms/step - loss: 21500212.0000 - val_loss: 25826488.0000\n",
      "Epoch 180/300\n",
      "37/37 [==============================] - 0s 3ms/step - loss: 21406320.0000 - val_loss: 25337158.0000\n",
      "Epoch 181/300\n",
      "37/37 [==============================] - 0s 3ms/step - loss: 21332086.0000 - val_loss: 25674496.0000\n",
      "Epoch 182/300\n",
      "37/37 [==============================] - 0s 3ms/step - loss: 21286866.0000 - val_loss: 25935102.0000\n",
      "Epoch 183/300\n",
      "37/37 [==============================] - 0s 3ms/step - loss: 21230414.0000 - val_loss: 25091202.0000\n",
      "Epoch 184/300\n",
      "37/37 [==============================] - 0s 3ms/step - loss: 21187408.0000 - val_loss: 25644168.0000\n",
      "Epoch 185/300\n",
      "37/37 [==============================] - 0s 3ms/step - loss: 21144528.0000 - val_loss: 25414678.0000\n",
      "Epoch 186/300\n",
      "37/37 [==============================] - 0s 3ms/step - loss: 21079920.0000 - val_loss: 25309002.0000\n",
      "Epoch 187/300\n",
      "37/37 [==============================] - 0s 3ms/step - loss: 21049306.0000 - val_loss: 25046442.0000\n",
      "Epoch 188/300\n",
      "37/37 [==============================] - 0s 3ms/step - loss: 20999236.0000 - val_loss: 25303912.0000\n",
      "Epoch 189/300\n",
      "37/37 [==============================] - 0s 3ms/step - loss: 20939146.0000 - val_loss: 24703308.0000\n",
      "Epoch 190/300\n",
      "37/37 [==============================] - 0s 3ms/step - loss: 20902598.0000 - val_loss: 25430916.0000\n",
      "Epoch 191/300\n",
      "37/37 [==============================] - 0s 3ms/step - loss: 20864650.0000 - val_loss: 25100060.0000\n",
      "Epoch 192/300\n",
      "37/37 [==============================] - 0s 3ms/step - loss: 20823976.0000 - val_loss: 24799658.0000\n",
      "Epoch 193/300\n",
      "37/37 [==============================] - 0s 3ms/step - loss: 20798298.0000 - val_loss: 24890050.0000\n",
      "Epoch 194/300\n",
      "37/37 [==============================] - 0s 3ms/step - loss: 20763222.0000 - val_loss: 25175884.0000\n",
      "Epoch 195/300\n",
      "37/37 [==============================] - 0s 3ms/step - loss: 20764572.0000 - val_loss: 25184184.0000\n",
      "Epoch 196/300\n",
      "37/37 [==============================] - 0s 3ms/step - loss: 20686206.0000 - val_loss: 24966578.0000\n",
      "Epoch 197/300\n",
      "37/37 [==============================] - 0s 3ms/step - loss: 20661878.0000 - val_loss: 24874628.0000\n",
      "Epoch 198/300\n",
      "37/37 [==============================] - 0s 3ms/step - loss: 20624044.0000 - val_loss: 24814026.0000\n",
      "Epoch 199/300\n",
      "37/37 [==============================] - 0s 3ms/step - loss: 20593146.0000 - val_loss: 24859262.0000\n",
      "Epoch 200/300\n",
      "37/37 [==============================] - 0s 3ms/step - loss: 20554848.0000 - val_loss: 25085986.0000\n",
      "Epoch 201/300\n",
      "37/37 [==============================] - 0s 3ms/step - loss: 20522852.0000 - val_loss: 24764476.0000\n",
      "Epoch 202/300\n",
      "37/37 [==============================] - 0s 3ms/step - loss: 20490966.0000 - val_loss: 25188686.0000\n",
      "Epoch 203/300\n",
      "37/37 [==============================] - 0s 2ms/step - loss: 20492818.0000 - val_loss: 24944156.0000\n",
      "Epoch 204/300\n",
      "37/37 [==============================] - 0s 3ms/step - loss: 20436624.0000 - val_loss: 24685366.0000\n",
      "Epoch 205/300\n",
      "37/37 [==============================] - 0s 3ms/step - loss: 20405324.0000 - val_loss: 24790036.0000\n",
      "Epoch 206/300\n",
      "37/37 [==============================] - 0s 3ms/step - loss: 20400094.0000 - val_loss: 24326566.0000\n",
      "Epoch 207/300\n",
      "37/37 [==============================] - 0s 2ms/step - loss: 20364132.0000 - val_loss: 24909642.0000\n",
      "Epoch 208/300\n",
      "37/37 [==============================] - 0s 3ms/step - loss: 20330850.0000 - val_loss: 24660258.0000\n",
      "Epoch 209/300\n",
      "37/37 [==============================] - 0s 3ms/step - loss: 20303694.0000 - val_loss: 24668864.0000\n",
      "Epoch 210/300\n",
      "37/37 [==============================] - 0s 3ms/step - loss: 20304482.0000 - val_loss: 25213656.0000\n",
      "Epoch 211/300\n",
      "37/37 [==============================] - 0s 3ms/step - loss: 20281476.0000 - val_loss: 24644312.0000\n",
      "Epoch 212/300\n",
      "37/37 [==============================] - 0s 3ms/step - loss: 20256416.0000 - val_loss: 24345692.0000\n",
      "Epoch 213/300\n",
      "37/37 [==============================] - 0s 2ms/step - loss: 20194154.0000 - val_loss: 24480072.0000\n",
      "Epoch 214/300\n",
      "37/37 [==============================] - 0s 2ms/step - loss: 20169842.0000 - val_loss: 24618742.0000\n",
      "Epoch 215/300\n",
      "37/37 [==============================] - 0s 2ms/step - loss: 20143972.0000 - val_loss: 24145094.0000\n",
      "Epoch 216/300\n",
      "37/37 [==============================] - 0s 3ms/step - loss: 20125646.0000 - val_loss: 24206636.0000\n",
      "Epoch 217/300\n",
      "37/37 [==============================] - 0s 3ms/step - loss: 20092758.0000 - val_loss: 23933326.0000\n",
      "Epoch 218/300\n",
      "37/37 [==============================] - 0s 3ms/step - loss: 20098708.0000 - val_loss: 23705718.0000\n",
      "Epoch 219/300\n",
      "37/37 [==============================] - 0s 3ms/step - loss: 20081670.0000 - val_loss: 23913438.0000\n",
      "Epoch 220/300\n",
      "37/37 [==============================] - 0s 2ms/step - loss: 20028564.0000 - val_loss: 24311604.0000\n",
      "Epoch 221/300\n",
      "37/37 [==============================] - 0s 3ms/step - loss: 19997186.0000 - val_loss: 24484876.0000\n",
      "Epoch 222/300\n",
      "37/37 [==============================] - 0s 3ms/step - loss: 19994004.0000 - val_loss: 24672798.0000\n",
      "Epoch 223/300\n",
      "37/37 [==============================] - 0s 3ms/step - loss: 19967596.0000 - val_loss: 24614272.0000\n",
      "Epoch 224/300\n",
      "37/37 [==============================] - 0s 3ms/step - loss: 19939458.0000 - val_loss: 24003852.0000\n",
      "Epoch 225/300\n",
      "37/37 [==============================] - 0s 3ms/step - loss: 19929650.0000 - val_loss: 24318682.0000\n",
      "Epoch 226/300\n",
      "37/37 [==============================] - 0s 3ms/step - loss: 19908436.0000 - val_loss: 24138376.0000\n",
      "Epoch 227/300\n",
      "37/37 [==============================] - 0s 3ms/step - loss: 19886194.0000 - val_loss: 24053776.0000\n",
      "Epoch 228/300\n",
      "37/37 [==============================] - 0s 3ms/step - loss: 19863074.0000 - val_loss: 23817552.0000\n",
      "Epoch 229/300\n",
      "37/37 [==============================] - 0s 2ms/step - loss: 19844408.0000 - val_loss: 23858470.0000\n",
      "Epoch 230/300\n",
      "37/37 [==============================] - 0s 2ms/step - loss: 19822540.0000 - val_loss: 23978840.0000\n",
      "Epoch 231/300\n",
      "37/37 [==============================] - 0s 2ms/step - loss: 19812454.0000 - val_loss: 23838970.0000\n",
      "Epoch 232/300\n",
      "37/37 [==============================] - 0s 2ms/step - loss: 19774794.0000 - val_loss: 24120296.0000\n",
      "Epoch 233/300\n",
      "37/37 [==============================] - 0s 2ms/step - loss: 19774138.0000 - val_loss: 23805470.0000\n",
      "Epoch 234/300\n",
      "37/37 [==============================] - 0s 2ms/step - loss: 19742398.0000 - val_loss: 23644566.0000\n",
      "Epoch 235/300\n",
      "37/37 [==============================] - 0s 2ms/step - loss: 19731668.0000 - val_loss: 23573024.0000\n",
      "Epoch 236/300\n",
      "37/37 [==============================] - 0s 2ms/step - loss: 19723498.0000 - val_loss: 23910672.0000\n",
      "Epoch 237/300\n",
      "37/37 [==============================] - 0s 3ms/step - loss: 19702840.0000 - val_loss: 23341300.0000\n",
      "Epoch 238/300\n",
      "37/37 [==============================] - 0s 2ms/step - loss: 19689068.0000 - val_loss: 23777176.0000\n",
      "Epoch 239/300\n",
      "37/37 [==============================] - 0s 2ms/step - loss: 19655654.0000 - val_loss: 23860616.0000\n",
      "Epoch 240/300\n",
      "37/37 [==============================] - 0s 2ms/step - loss: 19649134.0000 - val_loss: 23976154.0000\n",
      "Epoch 241/300\n",
      "37/37 [==============================] - 0s 3ms/step - loss: 19638576.0000 - val_loss: 23745504.0000\n",
      "Epoch 242/300\n",
      "37/37 [==============================] - 0s 3ms/step - loss: 19604884.0000 - val_loss: 23970180.0000\n",
      "Epoch 243/300\n",
      "37/37 [==============================] - 0s 2ms/step - loss: 19599014.0000 - val_loss: 23876456.0000\n",
      "Epoch 244/300\n",
      "37/37 [==============================] - 0s 3ms/step - loss: 19582814.0000 - val_loss: 23724040.0000\n",
      "Epoch 245/300\n",
      "37/37 [==============================] - 0s 3ms/step - loss: 19558928.0000 - val_loss: 23671574.0000\n",
      "Epoch 246/300\n",
      "37/37 [==============================] - 0s 3ms/step - loss: 19544856.0000 - val_loss: 23494590.0000\n",
      "Epoch 247/300\n",
      "37/37 [==============================] - 0s 3ms/step - loss: 19535014.0000 - val_loss: 23714088.0000\n",
      "Epoch 248/300\n",
      "37/37 [==============================] - 0s 2ms/step - loss: 19515678.0000 - val_loss: 24166582.0000\n",
      "Epoch 249/300\n",
      "37/37 [==============================] - 0s 2ms/step - loss: 19520370.0000 - val_loss: 23856246.0000\n",
      "Epoch 250/300\n",
      "37/37 [==============================] - 0s 2ms/step - loss: 19509542.0000 - val_loss: 24172154.0000\n",
      "Epoch 251/300\n",
      "37/37 [==============================] - 0s 2ms/step - loss: 19478718.0000 - val_loss: 24223360.0000\n",
      "Epoch 252/300\n",
      "37/37 [==============================] - 0s 2ms/step - loss: 19504038.0000 - val_loss: 23524396.0000\n",
      "Epoch 253/300\n",
      "37/37 [==============================] - 0s 3ms/step - loss: 19469514.0000 - val_loss: 23538242.0000\n",
      "Epoch 254/300\n",
      "37/37 [==============================] - 0s 3ms/step - loss: 19443204.0000 - val_loss: 23429114.0000\n",
      "Epoch 255/300\n",
      "37/37 [==============================] - 0s 3ms/step - loss: 19428272.0000 - val_loss: 23621372.0000\n",
      "Epoch 256/300\n",
      "37/37 [==============================] - 0s 3ms/step - loss: 19408748.0000 - val_loss: 23558960.0000\n",
      "Epoch 257/300\n",
      "37/37 [==============================] - 0s 2ms/step - loss: 19396002.0000 - val_loss: 23772386.0000\n",
      "Epoch 258/300\n",
      "37/37 [==============================] - 0s 2ms/step - loss: 19414704.0000 - val_loss: 23418670.0000\n",
      "Epoch 259/300\n",
      "37/37 [==============================] - 0s 2ms/step - loss: 19382530.0000 - val_loss: 23347210.0000\n",
      "Epoch 260/300\n",
      "37/37 [==============================] - 0s 2ms/step - loss: 19361366.0000 - val_loss: 23190696.0000\n",
      "Epoch 261/300\n",
      "37/37 [==============================] - 0s 2ms/step - loss: 19379490.0000 - val_loss: 23015848.0000\n",
      "Epoch 262/300\n",
      "37/37 [==============================] - 0s 3ms/step - loss: 19347544.0000 - val_loss: 23501580.0000\n",
      "Epoch 263/300\n",
      "37/37 [==============================] - 0s 4ms/step - loss: 19334210.0000 - val_loss: 23416236.0000\n",
      "Epoch 264/300\n",
      "37/37 [==============================] - 0s 3ms/step - loss: 19316132.0000 - val_loss: 23149098.0000\n",
      "Epoch 265/300\n",
      "37/37 [==============================] - 0s 3ms/step - loss: 19303494.0000 - val_loss: 23172140.0000\n",
      "Epoch 266/300\n",
      "37/37 [==============================] - 0s 3ms/step - loss: 19292648.0000 - val_loss: 23508216.0000\n",
      "Epoch 267/300\n",
      "37/37 [==============================] - 0s 3ms/step - loss: 19286240.0000 - val_loss: 23404326.0000\n",
      "Epoch 268/300\n",
      "37/37 [==============================] - 0s 3ms/step - loss: 19266340.0000 - val_loss: 23355724.0000\n",
      "Epoch 269/300\n",
      "37/37 [==============================] - 0s 2ms/step - loss: 19263242.0000 - val_loss: 23503168.0000\n",
      "Epoch 270/300\n",
      "37/37 [==============================] - 0s 3ms/step - loss: 19243802.0000 - val_loss: 23324274.0000\n",
      "Epoch 271/300\n",
      "37/37 [==============================] - 0s 2ms/step - loss: 19238348.0000 - val_loss: 23194662.0000\n",
      "Epoch 272/300\n",
      "37/37 [==============================] - 0s 2ms/step - loss: 19214586.0000 - val_loss: 23281168.0000\n",
      "Epoch 273/300\n",
      "37/37 [==============================] - 0s 2ms/step - loss: 19196544.0000 - val_loss: 23048960.0000\n",
      "Epoch 274/300\n",
      "37/37 [==============================] - 0s 2ms/step - loss: 19201210.0000 - val_loss: 23013438.0000\n",
      "Epoch 275/300\n",
      "37/37 [==============================] - 0s 3ms/step - loss: 19212840.0000 - val_loss: 23037212.0000\n",
      "Epoch 276/300\n",
      "37/37 [==============================] - 0s 3ms/step - loss: 19170082.0000 - val_loss: 22658720.0000\n",
      "Epoch 277/300\n",
      "37/37 [==============================] - 0s 2ms/step - loss: 19208172.0000 - val_loss: 22871892.0000\n",
      "Epoch 278/300\n",
      "37/37 [==============================] - 0s 2ms/step - loss: 19154408.0000 - val_loss: 22944410.0000\n",
      "Epoch 279/300\n",
      "37/37 [==============================] - 0s 2ms/step - loss: 19149362.0000 - val_loss: 22956138.0000\n",
      "Epoch 280/300\n",
      "37/37 [==============================] - 0s 3ms/step - loss: 19137124.0000 - val_loss: 23014506.0000\n",
      "Epoch 281/300\n",
      "37/37 [==============================] - 0s 3ms/step - loss: 19127856.0000 - val_loss: 22907634.0000\n",
      "Epoch 282/300\n",
      "37/37 [==============================] - 0s 3ms/step - loss: 19106246.0000 - val_loss: 23093860.0000\n",
      "Epoch 283/300\n",
      "37/37 [==============================] - 0s 3ms/step - loss: 19081574.0000 - val_loss: 23280660.0000\n",
      "Epoch 284/300\n",
      "37/37 [==============================] - 0s 3ms/step - loss: 19081276.0000 - val_loss: 22825520.0000\n",
      "Epoch 285/300\n",
      "37/37 [==============================] - 0s 3ms/step - loss: 19073052.0000 - val_loss: 22879744.0000\n",
      "Epoch 286/300\n",
      "37/37 [==============================] - 0s 3ms/step - loss: 19050294.0000 - val_loss: 22728258.0000\n",
      "Epoch 287/300\n",
      "37/37 [==============================] - 0s 3ms/step - loss: 19068962.0000 - val_loss: 22754050.0000\n",
      "Epoch 288/300\n",
      "37/37 [==============================] - 0s 3ms/step - loss: 19036630.0000 - val_loss: 22593816.0000\n",
      "Epoch 289/300\n",
      "37/37 [==============================] - 0s 2ms/step - loss: 19049410.0000 - val_loss: 22893032.0000\n",
      "Epoch 290/300\n",
      "37/37 [==============================] - 0s 2ms/step - loss: 19005478.0000 - val_loss: 22930162.0000\n",
      "Epoch 291/300\n",
      "37/37 [==============================] - 0s 2ms/step - loss: 18996916.0000 - val_loss: 22881524.0000\n",
      "Epoch 292/300\n",
      "37/37 [==============================] - 0s 2ms/step - loss: 19006926.0000 - val_loss: 22536400.0000\n",
      "Epoch 293/300\n",
      "37/37 [==============================] - 0s 3ms/step - loss: 18985918.0000 - val_loss: 23498376.0000\n",
      "Epoch 294/300\n",
      "37/37 [==============================] - 0s 3ms/step - loss: 18960426.0000 - val_loss: 23005148.0000\n",
      "Epoch 295/300\n",
      "37/37 [==============================] - 0s 3ms/step - loss: 18973138.0000 - val_loss: 22905914.0000\n",
      "Epoch 296/300\n",
      "37/37 [==============================] - 0s 3ms/step - loss: 18946860.0000 - val_loss: 23367246.0000\n",
      "Epoch 297/300\n",
      "37/37 [==============================] - 0s 3ms/step - loss: 18943180.0000 - val_loss: 23381266.0000\n",
      "Epoch 298/300\n",
      "37/37 [==============================] - 0s 3ms/step - loss: 18931170.0000 - val_loss: 22871882.0000\n",
      "Epoch 299/300\n",
      "37/37 [==============================] - 0s 2ms/step - loss: 18901106.0000 - val_loss: 22637868.0000\n",
      "Epoch 300/300\n",
      "37/37 [==============================] - 0s 3ms/step - loss: 18904814.0000 - val_loss: 22340878.0000\n"
     ]
    },
    {
     "data": {
      "text/plain": [
       "<keras.callbacks.History at 0x261643cc2b0>"
      ]
     },
     "execution_count": 39,
     "metadata": {},
     "output_type": "execute_result"
    }
   ],
   "source": [
    "model.fit(x=x_train, y=y_train,validation_data=(x_test,y_test),batch_size=250,epochs=300)"
   ]
  },
  {
   "cell_type": "code",
   "execution_count": 40,
   "metadata": {},
   "outputs": [],
   "source": [
    "loss_data= pd.DataFrame(model.history.history)"
   ]
  },
  {
   "cell_type": "code",
   "execution_count": 41,
   "metadata": {},
   "outputs": [
    {
     "data": {
      "text/html": [
       "<div>\n",
       "<style scoped>\n",
       "    .dataframe tbody tr th:only-of-type {\n",
       "        vertical-align: middle;\n",
       "    }\n",
       "\n",
       "    .dataframe tbody tr th {\n",
       "        vertical-align: top;\n",
       "    }\n",
       "\n",
       "    .dataframe thead th {\n",
       "        text-align: right;\n",
       "    }\n",
       "</style>\n",
       "<table border=\"1\" class=\"dataframe\">\n",
       "  <thead>\n",
       "    <tr style=\"text-align: right;\">\n",
       "      <th></th>\n",
       "      <th>loss</th>\n",
       "      <th>val_loss</th>\n",
       "    </tr>\n",
       "  </thead>\n",
       "  <tbody>\n",
       "    <tr>\n",
       "      <th>0</th>\n",
       "      <td>672145472.0</td>\n",
       "      <td>688104832.0</td>\n",
       "    </tr>\n",
       "    <tr>\n",
       "      <th>1</th>\n",
       "      <td>672126720.0</td>\n",
       "      <td>688069696.0</td>\n",
       "    </tr>\n",
       "    <tr>\n",
       "      <th>2</th>\n",
       "      <td>672060992.0</td>\n",
       "      <td>687947584.0</td>\n",
       "    </tr>\n",
       "    <tr>\n",
       "      <th>3</th>\n",
       "      <td>671836288.0</td>\n",
       "      <td>687543040.0</td>\n",
       "    </tr>\n",
       "    <tr>\n",
       "      <th>4</th>\n",
       "      <td>671143232.0</td>\n",
       "      <td>686380800.0</td>\n",
       "    </tr>\n",
       "  </tbody>\n",
       "</table>\n",
       "</div>"
      ],
      "text/plain": [
       "          loss     val_loss\n",
       "0  672145472.0  688104832.0\n",
       "1  672126720.0  688069696.0\n",
       "2  672060992.0  687947584.0\n",
       "3  671836288.0  687543040.0\n",
       "4  671143232.0  686380800.0"
      ]
     },
     "execution_count": 41,
     "metadata": {},
     "output_type": "execute_result"
    }
   ],
   "source": [
    "loss_data.head()"
   ]
  },
  {
   "cell_type": "code",
   "execution_count": 42,
   "metadata": {},
   "outputs": [
    {
     "data": {
      "text/plain": [
       "<AxesSubplot:>"
      ]
     },
     "execution_count": 42,
     "metadata": {},
     "output_type": "execute_result"
    },
    {
     "data": {
      "image/png": "[encoded data removed]",
      "text/plain": [
       "<Figure size 432x288 with 1 Axes>"
      ]
     },
     "metadata": {
      "needs_background": "light"
     },
     "output_type": "display_data"
    }
   ],
   "source": [
    "loss_data.plot()"
   ]
  },
  {
   "cell_type": "code",
   "execution_count": 43,
   "metadata": {},
   "outputs": [],
   "source": [
    "from sklearn.metrics import mean_absolute_error, mean_squared_error"
   ]
  },
  {
   "cell_type": "code",
   "execution_count": 44,
   "metadata": {},
   "outputs": [],
   "source": [
    "pred_data_frame = model.predict(x_test)"
   ]
  },
  {
   "cell_type": "code",
   "execution_count": 45,
   "metadata": {},
   "outputs": [
    {
     "data": {
      "text/plain": [
       "array([[20788.113],\n",
       "       [22821.768],\n",
       "       [24627.09 ],\n",
       "       ...,\n",
       "       [25055.576],\n",
       "       [11556.552],\n",
       "       [24228.55 ]], dtype=float32)"
      ]
     },
     "execution_count": 45,
     "metadata": {},
     "output_type": "execute_result"
    }
   ],
   "source": [
    "pred_data_frame"
   ]
  },
  {
   "cell_type": "code",
   "execution_count": 46,
   "metadata": {},
   "outputs": [
    {
     "data": {
      "text/plain": [
       "3344.1328484601536"
      ]
     },
     "execution_count": 46,
     "metadata": {},
     "output_type": "execute_result"
    }
   ],
   "source": [
    "mean_absolute_error(y_test,pred_data_frame)"
   ]
  },
  {
   "cell_type": "code",
   "execution_count": 47,
   "metadata": {},
   "outputs": [
    {
     "data": {
      "text/html": [
       "<div>\n",
       "<style scoped>\n",
       "    .dataframe tbody tr th:only-of-type {\n",
       "        vertical-align: middle;\n",
       "    }\n",
       "\n",
       "    .dataframe tbody tr th {\n",
       "        vertical-align: top;\n",
       "    }\n",
       "\n",
       "    .dataframe thead th {\n",
       "        text-align: right;\n",
       "    }\n",
       "</style>\n",
       "<table border=\"1\" class=\"dataframe\">\n",
       "  <thead>\n",
       "    <tr style=\"text-align: right;\">\n",
       "      <th></th>\n",
       "      <th>count</th>\n",
       "      <th>mean</th>\n",
       "      <th>std</th>\n",
       "      <th>min</th>\n",
       "      <th>25%</th>\n",
       "      <th>50%</th>\n",
       "      <th>75%</th>\n",
       "      <th>max</th>\n",
       "    </tr>\n",
       "  </thead>\n",
       "  <tbody>\n",
       "    <tr>\n",
       "      <th>year</th>\n",
       "      <td>12987.0</td>\n",
       "      <td>2017.285516</td>\n",
       "      <td>2.189633</td>\n",
       "      <td>1997.0</td>\n",
       "      <td>2016.0</td>\n",
       "      <td>2018.0</td>\n",
       "      <td>2019.0</td>\n",
       "      <td>2020.0</td>\n",
       "    </tr>\n",
       "    <tr>\n",
       "      <th>price</th>\n",
       "      <td>12987.0</td>\n",
       "      <td>24074.855779</td>\n",
       "      <td>9866.601115</td>\n",
       "      <td>650.0</td>\n",
       "      <td>17355.0</td>\n",
       "      <td>22299.0</td>\n",
       "      <td>28706.0</td>\n",
       "      <td>65990.0</td>\n",
       "    </tr>\n",
       "    <tr>\n",
       "      <th>mileage</th>\n",
       "      <td>12987.0</td>\n",
       "      <td>22133.367367</td>\n",
       "      <td>21197.472376</td>\n",
       "      <td>1.0</td>\n",
       "      <td>6320.0</td>\n",
       "      <td>15371.0</td>\n",
       "      <td>31986.5</td>\n",
       "      <td>259000.0</td>\n",
       "    </tr>\n",
       "    <tr>\n",
       "      <th>tax</th>\n",
       "      <td>12987.0</td>\n",
       "      <td>129.676215</td>\n",
       "      <td>65.167429</td>\n",
       "      <td>0.0</td>\n",
       "      <td>125.0</td>\n",
       "      <td>145.0</td>\n",
       "      <td>145.0</td>\n",
       "      <td>580.0</td>\n",
       "    </tr>\n",
       "    <tr>\n",
       "      <th>mpg</th>\n",
       "      <td>12987.0</td>\n",
       "      <td>55.438392</td>\n",
       "      <td>15.025902</td>\n",
       "      <td>1.1</td>\n",
       "      <td>45.6</td>\n",
       "      <td>56.5</td>\n",
       "      <td>64.2</td>\n",
       "      <td>217.3</td>\n",
       "    </tr>\n",
       "    <tr>\n",
       "      <th>engineSize</th>\n",
       "      <td>12987.0</td>\n",
       "      <td>2.051059</td>\n",
       "      <td>0.532313</td>\n",
       "      <td>0.0</td>\n",
       "      <td>1.7</td>\n",
       "      <td>2.0</td>\n",
       "      <td>2.1</td>\n",
       "      <td>6.2</td>\n",
       "    </tr>\n",
       "  </tbody>\n",
       "</table>\n",
       "</div>"
      ],
      "text/plain": [
       "              count          mean           std     min      25%      50%  \\\n",
       "year        12987.0   2017.285516      2.189633  1997.0   2016.0   2018.0   \n",
       "price       12987.0  24074.855779   9866.601115   650.0  17355.0  22299.0   \n",
       "mileage     12987.0  22133.367367  21197.472376     1.0   6320.0  15371.0   \n",
       "tax         12987.0    129.676215     65.167429     0.0    125.0    145.0   \n",
       "mpg         12987.0     55.438392     15.025902     1.1     45.6     56.5   \n",
       "engineSize  12987.0      2.051059      0.532313     0.0      1.7      2.0   \n",
       "\n",
       "                75%       max  \n",
       "year         2019.0    2020.0  \n",
       "price       28706.0   65990.0  \n",
       "mileage     31986.5  259000.0  \n",
       "tax           145.0     580.0  \n",
       "mpg            64.2     217.3  \n",
       "engineSize      2.1       6.2  "
      ]
     },
     "execution_count": 47,
     "metadata": {},
     "output_type": "execute_result"
    }
   ],
   "source": [
    "dataFrame.describe().T"
   ]
  },
  {
   "cell_type": "code",
   "execution_count": 48,
   "metadata": {},
   "outputs": [
    {
     "data": {
      "text/plain": [
       "[<matplotlib.lines.Line2D at 0x261667821d0>]"
      ]
     },
     "execution_count": 48,
     "metadata": {},
     "output_type": "execute_result"
    },
    {
     "data": {
      "image/png": "[encoded data removed]",
      "text/plain": [
       "<Figure size 432x288 with 1 Axes>"
      ]
     },
     "metadata": {
      "needs_background": "light"
     },
     "output_type": "display_data"
    }
   ],
   "source": [
    "plt.scatter(y_test, pred_data_frame)\n",
    "plt.plot(y_test,y_test,\"g-*\")"
   ]
  },
  {
   "cell_type": "code",
   "execution_count": 49,
   "metadata": {},
   "outputs": [
    {
     "data": {
      "text/plain": [
       "year           2020.0\n",
       "price         65980.0\n",
       "mileage        3999.0\n",
       "tax             145.0\n",
       "mpg              28.0\n",
       "engineSize        4.0\n",
       "Name: 3191, dtype: float64"
      ]
     },
     "execution_count": 49,
     "metadata": {},
     "output_type": "execute_result"
    }
   ],
   "source": [
    "dataFrame.iloc[2]"
   ]
  },
  {
   "cell_type": "code",
   "execution_count": 50,
   "metadata": {},
   "outputs": [],
   "source": [
    "new_car= dataFrame.drop(\"price\",axis=1).iloc[2]"
   ]
  },
  {
   "cell_type": "code",
   "execution_count": 51,
   "metadata": {},
   "outputs": [
    {
     "data": {
      "text/plain": [
       "year          2020.0\n",
       "mileage       3999.0\n",
       "tax            145.0\n",
       "mpg             28.0\n",
       "engineSize       4.0\n",
       "Name: 3191, dtype: float64"
      ]
     },
     "execution_count": 51,
     "metadata": {},
     "output_type": "execute_result"
    }
   ],
   "source": [
    "new_car"
   ]
  },
  {
   "cell_type": "code",
   "execution_count": 52,
   "metadata": {},
   "outputs": [],
   "source": [
    "new_car = scaler.transform(new_car.values.reshape(-1,5))"
   ]
  },
  {
   "cell_type": "code",
   "execution_count": 53,
   "metadata": {},
   "outputs": [
    {
     "data": {
      "text/plain": [
       "array([[62386.715]], dtype=float32)"
      ]
     },
     "execution_count": 53,
     "metadata": {},
     "output_type": "execute_result"
    }
   ],
   "source": [
    "model.predict(new_car)"
   ]
  }
 ],
 "metadata": {
  "interpreter": {
   "hash": "b89b5cfaba6639976dc87ff2fec6d58faec662063367e2c229c520fe71072417"
  },
  "kernelspec": {
   "display_name": "Python 3.10.2 64-bit",
   "language": "python",
   "name": "python3"
  },
  "language_info": {
   "codemirror_mode": {
    "name": "ipython",
    "version": 3
   },
   "file_extension": ".py",
   "mimetype": "text/x-python",
   "name": "python",
   "nbconvert_exporter": "python",
   "pygments_lexer": "ipython3",
   "version": "3.10.2"
  },
  "orig_nbformat": 4
 },
 "nbformat": 4,
 "nbformat_minor": 2
}
