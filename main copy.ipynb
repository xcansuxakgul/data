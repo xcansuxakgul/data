{
 "cells": [
  {
   "cell_type": "code",
   "execution_count": 1,
   "metadata": {},
   "outputs": [],
   "source": [
    "import pandas as pd\n",
    "import numpy as np\n",
    "import matplotlib.pyplot as plt\n",
    "import seaborn as sns\n",
    "%matplotlib inline\n",
    "sns.set(rc={'figure.figsize':(15,10)})"
   ]
  },
  {
   "cell_type": "code",
   "execution_count": 2,
   "metadata": {},
   "outputs": [],
   "source": [
    "train= pd.read_csv('train.csv')\n",
    "test = pd.read_csv('testFeatures.csv')"
   ]
  },
  {
   "cell_type": "code",
   "execution_count": 3,
   "metadata": {},
   "outputs": [
    {
     "data": {
      "text/html": [
       "<div>\n",
       "<style scoped>\n",
       "    .dataframe tbody tr th:only-of-type {\n",
       "        vertical-align: middle;\n",
       "    }\n",
       "\n",
       "    .dataframe tbody tr th {\n",
       "        vertical-align: top;\n",
       "    }\n",
       "\n",
       "    .dataframe thead th {\n",
       "        text-align: right;\n",
       "    }\n",
       "</style>\n",
       "<table border=\"1\" class=\"dataframe\">\n",
       "  <thead>\n",
       "    <tr style=\"text-align: right;\">\n",
       "      <th></th>\n",
       "      <th>tarih</th>\n",
       "      <th>ürün</th>\n",
       "      <th>ürün besin değeri</th>\n",
       "      <th>ürün kategorisi</th>\n",
       "      <th>ürün fiyatı</th>\n",
       "      <th>ürün üretim yeri</th>\n",
       "      <th>market</th>\n",
       "      <th>şehir</th>\n",
       "    </tr>\n",
       "  </thead>\n",
       "  <tbody>\n",
       "    <tr>\n",
       "      <th>0</th>\n",
       "      <td>2016-01-01</td>\n",
       "      <td>kıyma</td>\n",
       "      <td>120</td>\n",
       "      <td>et</td>\n",
       "      <td>33.41</td>\n",
       "      <td>Yurt içi</td>\n",
       "      <td>M</td>\n",
       "      <td>A</td>\n",
       "    </tr>\n",
       "    <tr>\n",
       "      <th>1</th>\n",
       "      <td>2016-01-01</td>\n",
       "      <td>tavuk</td>\n",
       "      <td>103</td>\n",
       "      <td>et</td>\n",
       "      <td>11.22</td>\n",
       "      <td>Yurt içi</td>\n",
       "      <td>M</td>\n",
       "      <td>A</td>\n",
       "    </tr>\n",
       "    <tr>\n",
       "      <th>2</th>\n",
       "      <td>2016-01-01</td>\n",
       "      <td>hindi</td>\n",
       "      <td>160</td>\n",
       "      <td>et</td>\n",
       "      <td>11.12</td>\n",
       "      <td>Yurt içi</td>\n",
       "      <td>M</td>\n",
       "      <td>A</td>\n",
       "    </tr>\n",
       "    <tr>\n",
       "      <th>3</th>\n",
       "      <td>2016-01-01</td>\n",
       "      <td>Bakla-kuru</td>\n",
       "      <td>354</td>\n",
       "      <td>sebze ve bakliyat</td>\n",
       "      <td>7.02</td>\n",
       "      <td>Yurt içi</td>\n",
       "      <td>M</td>\n",
       "      <td>A</td>\n",
       "    </tr>\n",
       "    <tr>\n",
       "      <th>4</th>\n",
       "      <td>2016-01-01</td>\n",
       "      <td>Bakla-taze</td>\n",
       "      <td>72</td>\n",
       "      <td>sebze ve bakliyat</td>\n",
       "      <td>13.14</td>\n",
       "      <td>Yurt içi</td>\n",
       "      <td>M</td>\n",
       "      <td>A</td>\n",
       "    </tr>\n",
       "  </tbody>\n",
       "</table>\n",
       "</div>"
      ],
      "text/plain": [
       "        tarih        ürün  ürün besin değeri    ürün kategorisi  ürün fiyatı  \\\n",
       "0  2016-01-01       kıyma                120                 et        33.41   \n",
       "1  2016-01-01       tavuk                103                 et        11.22   \n",
       "2  2016-01-01       hindi                160                 et        11.12   \n",
       "3  2016-01-01  Bakla-kuru                354  sebze ve bakliyat         7.02   \n",
       "4  2016-01-01  Bakla-taze                 72  sebze ve bakliyat        13.14   \n",
       "\n",
       "  ürün üretim yeri market şehir  \n",
       "0         Yurt içi      M     A  \n",
       "1         Yurt içi      M     A  \n",
       "2         Yurt içi      M     A  \n",
       "3         Yurt içi      M     A  \n",
       "4         Yurt içi      M     A  "
      ]
     },
     "execution_count": 3,
     "metadata": {},
     "output_type": "execute_result"
    }
   ],
   "source": [
    "train.head()"
   ]
  },
  {
   "cell_type": "code",
   "execution_count": 4,
   "metadata": {},
   "outputs": [
    {
     "data": {
      "text/plain": [
       "(227520, 8)"
      ]
     },
     "execution_count": 4,
     "metadata": {},
     "output_type": "execute_result"
    }
   ],
   "source": [
    "train.shape"
   ]
  },
  {
   "cell_type": "code",
   "execution_count": 5,
   "metadata": {},
   "outputs": [
    {
     "data": {
      "text/plain": [
       "tarih                0\n",
       "ürün                 0\n",
       "ürün besin değeri    0\n",
       "ürün kategorisi      0\n",
       "ürün fiyatı          0\n",
       "ürün üretim yeri     0\n",
       "market               0\n",
       "şehir                0\n",
       "dtype: int64"
      ]
     },
     "execution_count": 5,
     "metadata": {},
     "output_type": "execute_result"
    }
   ],
   "source": [
    "train.isna().sum()"
   ]
  },
  {
   "cell_type": "code",
   "execution_count": 6,
   "metadata": {},
   "outputs": [
    {
     "data": {
      "text/plain": [
       "0"
      ]
     },
     "execution_count": 6,
     "metadata": {},
     "output_type": "execute_result"
    }
   ],
   "source": [
    "train.duplicated().sum()"
   ]
  },
  {
   "cell_type": "code",
   "execution_count": 7,
   "metadata": {},
   "outputs": [
    {
     "name": "stdout",
     "output_type": "stream",
     "text": [
      "<class 'pandas.core.frame.DataFrame'>\n",
      "RangeIndex: 227520 entries, 0 to 227519\n",
      "Data columns (total 11 columns):\n",
      " #   Column             Non-Null Count   Dtype         \n",
      "---  ------             --------------   -----         \n",
      " 0   tarih              227520 non-null  datetime64[ns]\n",
      " 1   ürün               227520 non-null  object        \n",
      " 2   ürün besin değeri  227520 non-null  int64         \n",
      " 3   ürün kategorisi    227520 non-null  object        \n",
      " 4   ürün fiyatı        227520 non-null  float64       \n",
      " 5   ürün üretim yeri   227520 non-null  object        \n",
      " 6   market             227520 non-null  object        \n",
      " 7   şehir              227520 non-null  object        \n",
      " 8   Yıl                227520 non-null  int64         \n",
      " 9   Ay                 227520 non-null  int64         \n",
      " 10  Gün                227520 non-null  int64         \n",
      "dtypes: datetime64[ns](1), float64(1), int64(4), object(5)\n",
      "memory usage: 19.1+ MB\n"
     ]
    }
   ],
   "source": [
    "train[\"tarih\"]= pd.to_datetime(train[\"tarih\"])\n",
    "\n",
    "train[\"Yıl\"] = train[\"tarih\"].dt.year\n",
    "train[\"Ay\"] = train[\"tarih\"].dt.month\n",
    "train[\"Gün\"] = train[\"tarih\"].dt.day\n",
    "train.info()"
   ]
  },
  {
   "cell_type": "code",
   "execution_count": 8,
   "metadata": {},
   "outputs": [
    {
     "data": {
      "text/plain": [
       "(45504, 8)"
      ]
     },
     "execution_count": 8,
     "metadata": {},
     "output_type": "execute_result"
    }
   ],
   "source": [
    "test.shape"
   ]
  },
  {
   "cell_type": "code",
   "execution_count": 9,
   "metadata": {},
   "outputs": [
    {
     "data": {
      "text/plain": [
       "id                   0\n",
       "tarih                0\n",
       "ürün                 0\n",
       "ürün besin değeri    0\n",
       "ürün kategorisi      0\n",
       "ürün üretim yeri     0\n",
       "market               0\n",
       "şehir                0\n",
       "dtype: int64"
      ]
     },
     "execution_count": 9,
     "metadata": {},
     "output_type": "execute_result"
    }
   ],
   "source": [
    "test.isna().sum()"
   ]
  },
  {
   "cell_type": "code",
   "execution_count": 10,
   "metadata": {},
   "outputs": [
    {
     "data": {
      "text/plain": [
       "0"
      ]
     },
     "execution_count": 10,
     "metadata": {},
     "output_type": "execute_result"
    }
   ],
   "source": [
    "test.duplicated().sum()"
   ]
  },
  {
   "cell_type": "code",
   "execution_count": 11,
   "metadata": {},
   "outputs": [
    {
     "name": "stdout",
     "output_type": "stream",
     "text": [
      "<class 'pandas.core.frame.DataFrame'>\n",
      "RangeIndex: 45504 entries, 0 to 45503\n",
      "Data columns (total 11 columns):\n",
      " #   Column             Non-Null Count  Dtype         \n",
      "---  ------             --------------  -----         \n",
      " 0   id                 45504 non-null  int64         \n",
      " 1   tarih              45504 non-null  datetime64[ns]\n",
      " 2   ürün               45504 non-null  object        \n",
      " 3   ürün besin değeri  45504 non-null  int64         \n",
      " 4   ürün kategorisi    45504 non-null  object        \n",
      " 5   ürün üretim yeri   45504 non-null  object        \n",
      " 6   market             45504 non-null  object        \n",
      " 7   şehir              45504 non-null  object        \n",
      " 8   Yıl                45504 non-null  int64         \n",
      " 9   Ay                 45504 non-null  int64         \n",
      " 10  Gün                45504 non-null  int64         \n",
      "dtypes: datetime64[ns](1), int64(5), object(5)\n",
      "memory usage: 3.8+ MB\n"
     ]
    }
   ],
   "source": [
    "test['tarih'] = pd.to_datetime(test['tarih'])\n",
    "\n",
    "test[\"Yıl\"] = test[\"tarih\"].dt.year\n",
    "test[\"Ay\"] = test[\"tarih\"].dt.month\n",
    "test[\"Gün\"] = test[\"tarih\"].dt.day\n",
    "test.info()"
   ]
  },
  {
   "cell_type": "code",
   "execution_count": 12,
   "metadata": {},
   "outputs": [
    {
     "data": {
      "text/html": [
       "<div>\n",
       "<style scoped>\n",
       "    .dataframe tbody tr th:only-of-type {\n",
       "        vertical-align: middle;\n",
       "    }\n",
       "\n",
       "    .dataframe tbody tr th {\n",
       "        vertical-align: top;\n",
       "    }\n",
       "\n",
       "    .dataframe thead th {\n",
       "        text-align: right;\n",
       "    }\n",
       "</style>\n",
       "<table border=\"1\" class=\"dataframe\">\n",
       "  <thead>\n",
       "    <tr style=\"text-align: right;\">\n",
       "      <th></th>\n",
       "      <th>id</th>\n",
       "      <th>tarih</th>\n",
       "      <th>ürün</th>\n",
       "      <th>ürün besin değeri</th>\n",
       "      <th>ürün kategorisi</th>\n",
       "      <th>ürün üretim yeri</th>\n",
       "      <th>market</th>\n",
       "      <th>şehir</th>\n",
       "      <th>Yıl</th>\n",
       "      <th>Ay</th>\n",
       "      <th>Gün</th>\n",
       "    </tr>\n",
       "  </thead>\n",
       "  <tbody>\n",
       "    <tr>\n",
       "      <th>0</th>\n",
       "      <td>0</td>\n",
       "      <td>2021-01-01</td>\n",
       "      <td>kıyma</td>\n",
       "      <td>120</td>\n",
       "      <td>et</td>\n",
       "      <td>Yurt içi</td>\n",
       "      <td>M</td>\n",
       "      <td>A</td>\n",
       "      <td>2021</td>\n",
       "      <td>1</td>\n",
       "      <td>1</td>\n",
       "    </tr>\n",
       "    <tr>\n",
       "      <th>1</th>\n",
       "      <td>1</td>\n",
       "      <td>2021-01-01</td>\n",
       "      <td>tavuk</td>\n",
       "      <td>103</td>\n",
       "      <td>et</td>\n",
       "      <td>Yurt içi</td>\n",
       "      <td>M</td>\n",
       "      <td>A</td>\n",
       "      <td>2021</td>\n",
       "      <td>1</td>\n",
       "      <td>1</td>\n",
       "    </tr>\n",
       "    <tr>\n",
       "      <th>2</th>\n",
       "      <td>2</td>\n",
       "      <td>2021-01-01</td>\n",
       "      <td>hindi</td>\n",
       "      <td>160</td>\n",
       "      <td>et</td>\n",
       "      <td>Yurt içi</td>\n",
       "      <td>M</td>\n",
       "      <td>A</td>\n",
       "      <td>2021</td>\n",
       "      <td>1</td>\n",
       "      <td>1</td>\n",
       "    </tr>\n",
       "    <tr>\n",
       "      <th>3</th>\n",
       "      <td>3</td>\n",
       "      <td>2021-01-01</td>\n",
       "      <td>Bakla-kuru</td>\n",
       "      <td>354</td>\n",
       "      <td>sebze ve bakliyat</td>\n",
       "      <td>Yurt içi</td>\n",
       "      <td>M</td>\n",
       "      <td>A</td>\n",
       "      <td>2021</td>\n",
       "      <td>1</td>\n",
       "      <td>1</td>\n",
       "    </tr>\n",
       "    <tr>\n",
       "      <th>4</th>\n",
       "      <td>4</td>\n",
       "      <td>2021-01-01</td>\n",
       "      <td>Bakla-taze</td>\n",
       "      <td>72</td>\n",
       "      <td>sebze ve bakliyat</td>\n",
       "      <td>Yurt içi</td>\n",
       "      <td>M</td>\n",
       "      <td>A</td>\n",
       "      <td>2021</td>\n",
       "      <td>1</td>\n",
       "      <td>1</td>\n",
       "    </tr>\n",
       "  </tbody>\n",
       "</table>\n",
       "</div>"
      ],
      "text/plain": [
       "   id      tarih        ürün  ürün besin değeri    ürün kategorisi  \\\n",
       "0   0 2021-01-01       kıyma                120                 et   \n",
       "1   1 2021-01-01       tavuk                103                 et   \n",
       "2   2 2021-01-01       hindi                160                 et   \n",
       "3   3 2021-01-01  Bakla-kuru                354  sebze ve bakliyat   \n",
       "4   4 2021-01-01  Bakla-taze                 72  sebze ve bakliyat   \n",
       "\n",
       "  ürün üretim yeri market şehir   Yıl  Ay  Gün  \n",
       "0         Yurt içi      M     A  2021   1    1  \n",
       "1         Yurt içi      M     A  2021   1    1  \n",
       "2         Yurt içi      M     A  2021   1    1  \n",
       "3         Yurt içi      M     A  2021   1    1  \n",
       "4         Yurt içi      M     A  2021   1    1  "
      ]
     },
     "execution_count": 12,
     "metadata": {},
     "output_type": "execute_result"
    }
   ],
   "source": [
    "test.head()"
   ]
  },
  {
   "cell_type": "code",
   "execution_count": 13,
   "metadata": {},
   "outputs": [
    {
     "data": {
      "text/html": [
       "<div>\n",
       "<style scoped>\n",
       "    .dataframe tbody tr th:only-of-type {\n",
       "        vertical-align: middle;\n",
       "    }\n",
       "\n",
       "    .dataframe tbody tr th {\n",
       "        vertical-align: top;\n",
       "    }\n",
       "\n",
       "    .dataframe thead th {\n",
       "        text-align: right;\n",
       "    }\n",
       "</style>\n",
       "<table border=\"1\" class=\"dataframe\">\n",
       "  <thead>\n",
       "    <tr style=\"text-align: right;\">\n",
       "      <th></th>\n",
       "      <th>count</th>\n",
       "      <th>mean</th>\n",
       "      <th>std</th>\n",
       "      <th>min</th>\n",
       "      <th>25%</th>\n",
       "      <th>50%</th>\n",
       "      <th>75%</th>\n",
       "      <th>max</th>\n",
       "    </tr>\n",
       "  </thead>\n",
       "  <tbody>\n",
       "    <tr>\n",
       "      <th>ürün besin değeri</th>\n",
       "      <td>227520.0</td>\n",
       "      <td>143.113924</td>\n",
       "      <td>133.218871</td>\n",
       "      <td>8.00</td>\n",
       "      <td>41.00</td>\n",
       "      <td>83.0</td>\n",
       "      <td>250.00</td>\n",
       "      <td>402.00</td>\n",
       "    </tr>\n",
       "    <tr>\n",
       "      <th>ürün fiyatı</th>\n",
       "      <td>227520.0</td>\n",
       "      <td>16.348622</td>\n",
       "      <td>13.260935</td>\n",
       "      <td>0.73</td>\n",
       "      <td>7.33</td>\n",
       "      <td>12.6</td>\n",
       "      <td>20.90</td>\n",
       "      <td>141.33</td>\n",
       "    </tr>\n",
       "    <tr>\n",
       "      <th>Yıl</th>\n",
       "      <td>227520.0</td>\n",
       "      <td>2018.000000</td>\n",
       "      <td>1.414217</td>\n",
       "      <td>2016.00</td>\n",
       "      <td>2017.00</td>\n",
       "      <td>2018.0</td>\n",
       "      <td>2019.00</td>\n",
       "      <td>2020.00</td>\n",
       "    </tr>\n",
       "    <tr>\n",
       "      <th>Ay</th>\n",
       "      <td>227520.0</td>\n",
       "      <td>6.500000</td>\n",
       "      <td>3.452060</td>\n",
       "      <td>1.00</td>\n",
       "      <td>3.75</td>\n",
       "      <td>6.5</td>\n",
       "      <td>9.25</td>\n",
       "      <td>12.00</td>\n",
       "    </tr>\n",
       "    <tr>\n",
       "      <th>Gün</th>\n",
       "      <td>227520.0</td>\n",
       "      <td>1.000000</td>\n",
       "      <td>0.000000</td>\n",
       "      <td>1.00</td>\n",
       "      <td>1.00</td>\n",
       "      <td>1.0</td>\n",
       "      <td>1.00</td>\n",
       "      <td>1.00</td>\n",
       "    </tr>\n",
       "  </tbody>\n",
       "</table>\n",
       "</div>"
      ],
      "text/plain": [
       "                      count         mean         std      min      25%  \\\n",
       "ürün besin değeri  227520.0   143.113924  133.218871     8.00    41.00   \n",
       "ürün fiyatı        227520.0    16.348622   13.260935     0.73     7.33   \n",
       "Yıl                227520.0  2018.000000    1.414217  2016.00  2017.00   \n",
       "Ay                 227520.0     6.500000    3.452060     1.00     3.75   \n",
       "Gün                227520.0     1.000000    0.000000     1.00     1.00   \n",
       "\n",
       "                      50%      75%      max  \n",
       "ürün besin değeri    83.0   250.00   402.00  \n",
       "ürün fiyatı          12.6    20.90   141.33  \n",
       "Yıl                2018.0  2019.00  2020.00  \n",
       "Ay                    6.5     9.25    12.00  \n",
       "Gün                   1.0     1.00     1.00  "
      ]
     },
     "execution_count": 13,
     "metadata": {},
     "output_type": "execute_result"
    }
   ],
   "source": [
    "train.describe().T"
   ]
  },
  {
   "cell_type": "code",
   "execution_count": 14,
   "metadata": {},
   "outputs": [
    {
     "data": {
      "text/plain": [
       "kıyma            2880\n",
       "salam            2880\n",
       "Çilek            2880\n",
       "Armut            2880\n",
       "tereyağ          2880\n",
       "                 ... \n",
       "Nohut            2880\n",
       "Mercimek-kuru    2880\n",
       "Marul            2880\n",
       "Mantar           2880\n",
       "ceviz            2880\n",
       "Name: ürün, Length: 79, dtype: int64"
      ]
     },
     "execution_count": 14,
     "metadata": {},
     "output_type": "execute_result"
    }
   ],
   "source": [
    "train[\"ürün\"].value_counts()"
   ]
  },
  {
   "cell_type": "code",
   "execution_count": 15,
   "metadata": {},
   "outputs": [
    {
     "data": {
      "text/plain": [
       "sebze ve bakliyat              83520\n",
       "meyve                          51840\n",
       "tahıl ve ürünleri              34560\n",
       "süt ürünleri ve kahvaltılık    34560\n",
       "kuruyemiş                      14400\n",
       "et                              8640\n",
       "Name: ürün kategorisi, dtype: int64"
      ]
     },
     "execution_count": 15,
     "metadata": {},
     "output_type": "execute_result"
    }
   ],
   "source": [
    "train[\"ürün kategorisi\"].value_counts()"
   ]
  },
  {
   "cell_type": "code",
   "execution_count": 16,
   "metadata": {},
   "outputs": [
    {
     "data": {
      "text/plain": [
       "ürün kategorisi\n",
       "et                             35.722958\n",
       "kuruyemiş                      30.049149\n",
       "meyve                           9.992867\n",
       "sebze ve bakliyat              14.909769\n",
       "süt ürünleri ve kahvaltılık    25.619672\n",
       "tahıl ve ürünleri               9.536299\n",
       "Name: ürün fiyatı, dtype: float64"
      ]
     },
     "execution_count": 16,
     "metadata": {},
     "output_type": "execute_result"
    }
   ],
   "source": [
    "train.groupby('ürün kategorisi').mean()['ürün fiyatı']"
   ]
  },
  {
   "cell_type": "code",
   "execution_count": 17,
   "metadata": {},
   "outputs": [
    {
     "data": {
      "image/png": "[encoded data removed]",
      "text/plain": [
       "<Figure size 1080x720 with 1 Axes>"
      ]
     },
     "metadata": {},
     "output_type": "display_data"
    }
   ],
   "source": [
    "categories = ['et','kuruyemiş','meyve','sebze ve bakliyat','süt ürünleri ve kahvaltılık','tahıl ve ürünleri']\n",
    "for i in range(6):\n",
    "    dt= pd.DataFrame(train.loc[lambda train: train[\"ürün kategorisi\"]==categories[i]].groupby([\"Yıl\",\"ürün kategorisi\"])[\"ürün fiyatı\"].mean())\n",
    "    sns.lineplot(data=dt, x=\"Yıl\", y=\"ürün fiyatı\", label= \"{}\".format(categories[i]))\n"
   ]
  },
  {
   "cell_type": "code",
   "execution_count": 18,
   "metadata": {},
   "outputs": [
    {
     "data": {
      "image/png": "[encoded data removed]",
      "text/plain": [
       "<Figure size 1080x720 with 1 Axes>"
      ]
     },
     "metadata": {},
     "output_type": "display_data"
    }
   ],
   "source": [
    "ax = sns.boxplot(x=\"ürün kategorisi\", y=\"ürün fiyatı\", data=train) "
   ]
  },
  {
   "cell_type": "code",
   "execution_count": 19,
   "metadata": {},
   "outputs": [
    {
     "name": "stderr",
     "output_type": "stream",
     "text": [
      "C:\\Users\\dell\\AppData\\Local\\Temp\\ipykernel_9816\\4032123530.py:11: SettingWithCopyWarning: \n",
      "A value is trying to be set on a copy of a slice from a DataFrame\n",
      "\n",
      "See the caveats in the documentation: https://pandas.pydata.org/pandas-docs/stable/user_guide/indexing.html#returning-a-view-versus-a-copy\n",
      "  dataa[\"ürün fiyatı\"].fillna(dataa[\"ürün fiyatı\"].mean(), inplace=True)  # also fill nan values with mean\n",
      "C:\\Users\\dell\\AppData\\Local\\Temp\\ipykernel_9816\\4032123530.py:11: SettingWithCopyWarning: \n",
      "A value is trying to be set on a copy of a slice from a DataFrame\n",
      "\n",
      "See the caveats in the documentation: https://pandas.pydata.org/pandas-docs/stable/user_guide/indexing.html#returning-a-view-versus-a-copy\n",
      "  dataa[\"ürün fiyatı\"].fillna(dataa[\"ürün fiyatı\"].mean(), inplace=True)  # also fill nan values with mean\n",
      "C:\\Users\\dell\\AppData\\Local\\Temp\\ipykernel_9816\\4032123530.py:11: SettingWithCopyWarning: \n",
      "A value is trying to be set on a copy of a slice from a DataFrame\n",
      "\n",
      "See the caveats in the documentation: https://pandas.pydata.org/pandas-docs/stable/user_guide/indexing.html#returning-a-view-versus-a-copy\n",
      "  dataa[\"ürün fiyatı\"].fillna(dataa[\"ürün fiyatı\"].mean(), inplace=True)  # also fill nan values with mean\n",
      "C:\\Users\\dell\\AppData\\Local\\Temp\\ipykernel_9816\\4032123530.py:11: SettingWithCopyWarning: \n",
      "A value is trying to be set on a copy of a slice from a DataFrame\n",
      "\n",
      "See the caveats in the documentation: https://pandas.pydata.org/pandas-docs/stable/user_guide/indexing.html#returning-a-view-versus-a-copy\n",
      "  dataa[\"ürün fiyatı\"].fillna(dataa[\"ürün fiyatı\"].mean(), inplace=True)  # also fill nan values with mean\n",
      "C:\\Users\\dell\\AppData\\Local\\Temp\\ipykernel_9816\\4032123530.py:11: SettingWithCopyWarning: \n",
      "A value is trying to be set on a copy of a slice from a DataFrame\n",
      "\n",
      "See the caveats in the documentation: https://pandas.pydata.org/pandas-docs/stable/user_guide/indexing.html#returning-a-view-versus-a-copy\n",
      "  dataa[\"ürün fiyatı\"].fillna(dataa[\"ürün fiyatı\"].mean(), inplace=True)  # also fill nan values with mean\n",
      "C:\\Users\\dell\\AppData\\Local\\Temp\\ipykernel_9816\\4032123530.py:11: SettingWithCopyWarning: \n",
      "A value is trying to be set on a copy of a slice from a DataFrame\n",
      "\n",
      "See the caveats in the documentation: https://pandas.pydata.org/pandas-docs/stable/user_guide/indexing.html#returning-a-view-versus-a-copy\n",
      "  dataa[\"ürün fiyatı\"].fillna(dataa[\"ürün fiyatı\"].mean(), inplace=True)  # also fill nan values with mean\n"
     ]
    }
   ],
   "source": [
    "new_data = pd.DataFrame()\n",
    "for i in range(len(categories)):\n",
    "    dataa= train[train['ürün kategorisi'] == categories[i]]\n",
    "    max_value = (3*dataa[\"ürün fiyatı\"].std()) + dataa[\"ürün fiyatı\"].mean()  # finds the max value that is not going to be called not an outlier\n",
    "    min_value = -((3*dataa[\"ürün fiyatı\"].std()) + dataa[\"ürün fiyatı\"].mean())  # finds the min value that is not going to be called not an outlier\n",
    "\n",
    "    mean = dataa.loc[(dataa[\"ürün fiyatı\"] > min_value) & (dataa[\"ürün fiyatı\"] < max_value), [\"ürün fiyatı\"]].mean()  # calculate the new mean of the column without the outlier values\n",
    "    # if there is no outlier value then the mean will be np.nan in this situation don't need to do imputation\n",
    "    if mean is not np.nan:  \n",
    "        dataa.loc[(dataa[\"ürün fiyatı\"] < min_value) | (dataa[\"ürün fiyatı\"] > max_value), [\"ürün fiyatı\"]] = mean  # change outlier values with mean\n",
    "        dataa[\"ürün fiyatı\"].fillna(dataa[\"ürün fiyatı\"].mean(), inplace=True)  # also fill nan values with mean\n",
    "    else:  # this condition means there is no outlier value in the column\n",
    "        dataa[\"ürün fiyatı\"].fillna(dataa[\"ürün fiyatı\"].mean(), inplace=True)  # just fill nan values with mean\n",
    "    new_data= pd.concat([new_data, dataa])"
   ]
  },
  {
   "cell_type": "code",
   "execution_count": 20,
   "metadata": {},
   "outputs": [
    {
     "data": {
      "text/plain": [
       "tarih                0\n",
       "ürün                 0\n",
       "ürün besin değeri    0\n",
       "ürün kategorisi      0\n",
       "ürün fiyatı          0\n",
       "ürün üretim yeri     0\n",
       "market               0\n",
       "şehir                0\n",
       "Yıl                  0\n",
       "Ay                   0\n",
       "Gün                  0\n",
       "dtype: int64"
      ]
     },
     "execution_count": 20,
     "metadata": {},
     "output_type": "execute_result"
    }
   ],
   "source": [
    "new_data.isna().sum()"
   ]
  },
  {
   "cell_type": "code",
   "execution_count": 21,
   "metadata": {},
   "outputs": [
    {
     "data": {
      "text/html": [
       "<div>\n",
       "<style scoped>\n",
       "    .dataframe tbody tr th:only-of-type {\n",
       "        vertical-align: middle;\n",
       "    }\n",
       "\n",
       "    .dataframe tbody tr th {\n",
       "        vertical-align: top;\n",
       "    }\n",
       "\n",
       "    .dataframe thead th {\n",
       "        text-align: right;\n",
       "    }\n",
       "</style>\n",
       "<table border=\"1\" class=\"dataframe\">\n",
       "  <thead>\n",
       "    <tr style=\"text-align: right;\">\n",
       "      <th></th>\n",
       "      <th>count</th>\n",
       "      <th>mean</th>\n",
       "      <th>std</th>\n",
       "      <th>min</th>\n",
       "      <th>25%</th>\n",
       "      <th>50%</th>\n",
       "      <th>75%</th>\n",
       "      <th>max</th>\n",
       "    </tr>\n",
       "  </thead>\n",
       "  <tbody>\n",
       "    <tr>\n",
       "      <th>ürün besin değeri</th>\n",
       "      <td>227520.0</td>\n",
       "      <td>143.113924</td>\n",
       "      <td>133.218871</td>\n",
       "      <td>8.00</td>\n",
       "      <td>41.00</td>\n",
       "      <td>83.00</td>\n",
       "      <td>250.00</td>\n",
       "      <td>402.0</td>\n",
       "    </tr>\n",
       "    <tr>\n",
       "      <th>ürün fiyatı</th>\n",
       "      <td>227520.0</td>\n",
       "      <td>15.810185</td>\n",
       "      <td>12.295087</td>\n",
       "      <td>0.73</td>\n",
       "      <td>7.33</td>\n",
       "      <td>12.47</td>\n",
       "      <td>20.36</td>\n",
       "      <td>112.2</td>\n",
       "    </tr>\n",
       "    <tr>\n",
       "      <th>Yıl</th>\n",
       "      <td>227520.0</td>\n",
       "      <td>2018.000000</td>\n",
       "      <td>1.414217</td>\n",
       "      <td>2016.00</td>\n",
       "      <td>2017.00</td>\n",
       "      <td>2018.00</td>\n",
       "      <td>2019.00</td>\n",
       "      <td>2020.0</td>\n",
       "    </tr>\n",
       "    <tr>\n",
       "      <th>Ay</th>\n",
       "      <td>227520.0</td>\n",
       "      <td>6.500000</td>\n",
       "      <td>3.452060</td>\n",
       "      <td>1.00</td>\n",
       "      <td>3.75</td>\n",
       "      <td>6.50</td>\n",
       "      <td>9.25</td>\n",
       "      <td>12.0</td>\n",
       "    </tr>\n",
       "    <tr>\n",
       "      <th>Gün</th>\n",
       "      <td>227520.0</td>\n",
       "      <td>1.000000</td>\n",
       "      <td>0.000000</td>\n",
       "      <td>1.00</td>\n",
       "      <td>1.00</td>\n",
       "      <td>1.00</td>\n",
       "      <td>1.00</td>\n",
       "      <td>1.0</td>\n",
       "    </tr>\n",
       "  </tbody>\n",
       "</table>\n",
       "</div>"
      ],
      "text/plain": [
       "                      count         mean         std      min      25%  \\\n",
       "ürün besin değeri  227520.0   143.113924  133.218871     8.00    41.00   \n",
       "ürün fiyatı        227520.0    15.810185   12.295087     0.73     7.33   \n",
       "Yıl                227520.0  2018.000000    1.414217  2016.00  2017.00   \n",
       "Ay                 227520.0     6.500000    3.452060     1.00     3.75   \n",
       "Gün                227520.0     1.000000    0.000000     1.00     1.00   \n",
       "\n",
       "                       50%      75%     max  \n",
       "ürün besin değeri    83.00   250.00   402.0  \n",
       "ürün fiyatı          12.47    20.36   112.2  \n",
       "Yıl                2018.00  2019.00  2020.0  \n",
       "Ay                    6.50     9.25    12.0  \n",
       "Gün                   1.00     1.00     1.0  "
      ]
     },
     "execution_count": 21,
     "metadata": {},
     "output_type": "execute_result"
    }
   ],
   "source": [
    "new_data.describe().T"
   ]
  },
  {
   "cell_type": "code",
   "execution_count": 22,
   "metadata": {},
   "outputs": [
    {
     "name": "stderr",
     "output_type": "stream",
     "text": [
      "C:\\Users\\dell\\AppData\\Roaming\\Python\\Python310\\site-packages\\seaborn\\distributions.py:2619: FutureWarning: `distplot` is a deprecated function and will be removed in a future version. Please adapt your code to use either `displot` (a figure-level function with similar flexibility) or `histplot` (an axes-level function for histograms).\n",
      "  warnings.warn(msg, FutureWarning)\n"
     ]
    },
    {
     "data": {
      "text/plain": [
       "<AxesSubplot:xlabel='ürün fiyatı', ylabel='Density'>"
      ]
     },
     "execution_count": 22,
     "metadata": {},
     "output_type": "execute_result"
    },
    {
     "data": {
      "image/png": "[encoded data removed]",
      "text/plain": [
       "<Figure size 504x360 with 1 Axes>"
      ]
     },
     "metadata": {},
     "output_type": "display_data"
    }
   ],
   "source": [
    "plt.figure(figsize=(7,5))\n",
    "sns.distplot(new_data[\"ürün fiyatı\"])"
   ]
  },
  {
   "cell_type": "code",
   "execution_count": 23,
   "metadata": {},
   "outputs": [
    {
     "data": {
      "image/png": "[encoded data removed]",
      "text/plain": [
       "<Figure size 1080x720 with 1 Axes>"
      ]
     },
     "metadata": {},
     "output_type": "display_data"
    }
   ],
   "source": [
    "ax = sns.boxplot(x=\"ürün kategorisi\", y=\"ürün fiyatı\", data=new_data) "
   ]
  },
  {
   "cell_type": "code",
   "execution_count": 24,
   "metadata": {},
   "outputs": [
    {
     "data": {
      "text/html": [
       "<div>\n",
       "<style scoped>\n",
       "    .dataframe tbody tr th:only-of-type {\n",
       "        vertical-align: middle;\n",
       "    }\n",
       "\n",
       "    .dataframe tbody tr th {\n",
       "        vertical-align: top;\n",
       "    }\n",
       "\n",
       "    .dataframe thead th {\n",
       "        text-align: right;\n",
       "    }\n",
       "</style>\n",
       "<table border=\"1\" class=\"dataframe\">\n",
       "  <thead>\n",
       "    <tr style=\"text-align: right;\">\n",
       "      <th></th>\n",
       "      <th>ürün</th>\n",
       "      <th>ürün kategorisi</th>\n",
       "      <th>ürün üretim yeri</th>\n",
       "      <th>market</th>\n",
       "      <th>şehir</th>\n",
       "    </tr>\n",
       "  </thead>\n",
       "  <tbody>\n",
       "    <tr>\n",
       "      <th>0</th>\n",
       "      <td>kıyma</td>\n",
       "      <td>et</td>\n",
       "      <td>Yurt içi</td>\n",
       "      <td>M</td>\n",
       "      <td>A</td>\n",
       "    </tr>\n",
       "    <tr>\n",
       "      <th>1</th>\n",
       "      <td>tavuk</td>\n",
       "      <td>et</td>\n",
       "      <td>Yurt içi</td>\n",
       "      <td>M</td>\n",
       "      <td>A</td>\n",
       "    </tr>\n",
       "    <tr>\n",
       "      <th>2</th>\n",
       "      <td>hindi</td>\n",
       "      <td>et</td>\n",
       "      <td>Yurt içi</td>\n",
       "      <td>M</td>\n",
       "      <td>A</td>\n",
       "    </tr>\n",
       "    <tr>\n",
       "      <th>79</th>\n",
       "      <td>kıyma</td>\n",
       "      <td>et</td>\n",
       "      <td>Yurt dışı</td>\n",
       "      <td>M</td>\n",
       "      <td>A</td>\n",
       "    </tr>\n",
       "    <tr>\n",
       "      <th>80</th>\n",
       "      <td>tavuk</td>\n",
       "      <td>et</td>\n",
       "      <td>Yurt dışı</td>\n",
       "      <td>M</td>\n",
       "      <td>A</td>\n",
       "    </tr>\n",
       "    <tr>\n",
       "      <th>...</th>\n",
       "      <td>...</td>\n",
       "      <td>...</td>\n",
       "      <td>...</td>\n",
       "      <td>...</td>\n",
       "      <td>...</td>\n",
       "    </tr>\n",
       "    <tr>\n",
       "      <th>227480</th>\n",
       "      <td>Pilav</td>\n",
       "      <td>tahıl ve ürünleri</td>\n",
       "      <td>Yurt dışı</td>\n",
       "      <td>B</td>\n",
       "      <td>H</td>\n",
       "    </tr>\n",
       "    <tr>\n",
       "      <th>227481</th>\n",
       "      <td>Pirinç unu</td>\n",
       "      <td>tahıl ve ürünleri</td>\n",
       "      <td>Yurt dışı</td>\n",
       "      <td>B</td>\n",
       "      <td>H</td>\n",
       "    </tr>\n",
       "    <tr>\n",
       "      <th>227482</th>\n",
       "      <td>Şehriye</td>\n",
       "      <td>tahıl ve ürünleri</td>\n",
       "      <td>Yurt dışı</td>\n",
       "      <td>B</td>\n",
       "      <td>H</td>\n",
       "    </tr>\n",
       "    <tr>\n",
       "      <th>227483</th>\n",
       "      <td>Tarhana</td>\n",
       "      <td>tahıl ve ürünleri</td>\n",
       "      <td>Yurt dışı</td>\n",
       "      <td>B</td>\n",
       "      <td>H</td>\n",
       "    </tr>\n",
       "    <tr>\n",
       "      <th>227484</th>\n",
       "      <td>Yulaf unu</td>\n",
       "      <td>tahıl ve ürünleri</td>\n",
       "      <td>Yurt dışı</td>\n",
       "      <td>B</td>\n",
       "      <td>H</td>\n",
       "    </tr>\n",
       "  </tbody>\n",
       "</table>\n",
       "<p>227520 rows × 5 columns</p>\n",
       "</div>"
      ],
      "text/plain": [
       "              ürün    ürün kategorisi ürün üretim yeri market şehir\n",
       "0            kıyma                 et         Yurt içi      M     A\n",
       "1            tavuk                 et         Yurt içi      M     A\n",
       "2            hindi                 et         Yurt içi      M     A\n",
       "79           kıyma                 et        Yurt dışı      M     A\n",
       "80           tavuk                 et        Yurt dışı      M     A\n",
       "...            ...                ...              ...    ...   ...\n",
       "227480       Pilav  tahıl ve ürünleri        Yurt dışı      B     H\n",
       "227481  Pirinç unu  tahıl ve ürünleri        Yurt dışı      B     H\n",
       "227482     Şehriye  tahıl ve ürünleri        Yurt dışı      B     H\n",
       "227483     Tarhana  tahıl ve ürünleri        Yurt dışı      B     H\n",
       "227484   Yulaf unu  tahıl ve ürünleri        Yurt dışı      B     H\n",
       "\n",
       "[227520 rows x 5 columns]"
      ]
     },
     "execution_count": 24,
     "metadata": {},
     "output_type": "execute_result"
    }
   ],
   "source": [
    "new_data.select_dtypes(include=[object])"
   ]
  },
  {
   "cell_type": "code",
   "execution_count": 25,
   "metadata": {},
   "outputs": [
    {
     "data": {
      "text/html": [
       "<div>\n",
       "<style scoped>\n",
       "    .dataframe tbody tr th:only-of-type {\n",
       "        vertical-align: middle;\n",
       "    }\n",
       "\n",
       "    .dataframe tbody tr th {\n",
       "        vertical-align: top;\n",
       "    }\n",
       "\n",
       "    .dataframe thead th {\n",
       "        text-align: right;\n",
       "    }\n",
       "</style>\n",
       "<table border=\"1\" class=\"dataframe\">\n",
       "  <thead>\n",
       "    <tr style=\"text-align: right;\">\n",
       "      <th></th>\n",
       "      <th>tarih</th>\n",
       "      <th>ürün</th>\n",
       "      <th>ürün besin değeri</th>\n",
       "      <th>ürün kategorisi</th>\n",
       "      <th>ürün fiyatı</th>\n",
       "      <th>ürün üretim yeri</th>\n",
       "      <th>market</th>\n",
       "      <th>şehir</th>\n",
       "      <th>Yıl</th>\n",
       "      <th>Ay</th>\n",
       "      <th>Gün</th>\n",
       "    </tr>\n",
       "  </thead>\n",
       "  <tbody>\n",
       "    <tr>\n",
       "      <th>227480</th>\n",
       "      <td>2020-12-01</td>\n",
       "      <td>Pilav</td>\n",
       "      <td>368</td>\n",
       "      <td>tahıl ve ürünleri</td>\n",
       "      <td>13.880000</td>\n",
       "      <td>Yurt dışı</td>\n",
       "      <td>B</td>\n",
       "      <td>H</td>\n",
       "      <td>2020</td>\n",
       "      <td>12</td>\n",
       "      <td>1</td>\n",
       "    </tr>\n",
       "    <tr>\n",
       "      <th>227481</th>\n",
       "      <td>2020-12-01</td>\n",
       "      <td>Pirinç unu</td>\n",
       "      <td>353</td>\n",
       "      <td>tahıl ve ürünleri</td>\n",
       "      <td>21.420000</td>\n",
       "      <td>Yurt dışı</td>\n",
       "      <td>B</td>\n",
       "      <td>H</td>\n",
       "      <td>2020</td>\n",
       "      <td>12</td>\n",
       "      <td>1</td>\n",
       "    </tr>\n",
       "    <tr>\n",
       "      <th>227482</th>\n",
       "      <td>2020-12-01</td>\n",
       "      <td>Şehriye</td>\n",
       "      <td>390</td>\n",
       "      <td>tahıl ve ürünleri</td>\n",
       "      <td>20.950000</td>\n",
       "      <td>Yurt dışı</td>\n",
       "      <td>B</td>\n",
       "      <td>H</td>\n",
       "      <td>2020</td>\n",
       "      <td>12</td>\n",
       "      <td>1</td>\n",
       "    </tr>\n",
       "    <tr>\n",
       "      <th>227483</th>\n",
       "      <td>2020-12-01</td>\n",
       "      <td>Tarhana</td>\n",
       "      <td>329</td>\n",
       "      <td>tahıl ve ürünleri</td>\n",
       "      <td>10.790000</td>\n",
       "      <td>Yurt dışı</td>\n",
       "      <td>B</td>\n",
       "      <td>H</td>\n",
       "      <td>2020</td>\n",
       "      <td>12</td>\n",
       "      <td>1</td>\n",
       "    </tr>\n",
       "    <tr>\n",
       "      <th>227484</th>\n",
       "      <td>2020-12-01</td>\n",
       "      <td>Yulaf unu</td>\n",
       "      <td>402</td>\n",
       "      <td>tahıl ve ürünleri</td>\n",
       "      <td>8.926584</td>\n",
       "      <td>Yurt dışı</td>\n",
       "      <td>B</td>\n",
       "      <td>H</td>\n",
       "      <td>2020</td>\n",
       "      <td>12</td>\n",
       "      <td>1</td>\n",
       "    </tr>\n",
       "  </tbody>\n",
       "</table>\n",
       "</div>"
      ],
      "text/plain": [
       "            tarih        ürün  ürün besin değeri    ürün kategorisi  \\\n",
       "227480 2020-12-01       Pilav                368  tahıl ve ürünleri   \n",
       "227481 2020-12-01  Pirinç unu                353  tahıl ve ürünleri   \n",
       "227482 2020-12-01     Şehriye                390  tahıl ve ürünleri   \n",
       "227483 2020-12-01     Tarhana                329  tahıl ve ürünleri   \n",
       "227484 2020-12-01   Yulaf unu                402  tahıl ve ürünleri   \n",
       "\n",
       "        ürün fiyatı ürün üretim yeri market şehir   Yıl  Ay  Gün  \n",
       "227480    13.880000        Yurt dışı      B     H  2020  12    1  \n",
       "227481    21.420000        Yurt dışı      B     H  2020  12    1  \n",
       "227482    20.950000        Yurt dışı      B     H  2020  12    1  \n",
       "227483    10.790000        Yurt dışı      B     H  2020  12    1  \n",
       "227484     8.926584        Yurt dışı      B     H  2020  12    1  "
      ]
     },
     "execution_count": 25,
     "metadata": {},
     "output_type": "execute_result"
    }
   ],
   "source": [
    "new_data.tail()"
   ]
  },
  {
   "cell_type": "code",
   "execution_count": 26,
   "metadata": {},
   "outputs": [
    {
     "data": {
      "text/html": [
       "<div>\n",
       "<style scoped>\n",
       "    .dataframe tbody tr th:only-of-type {\n",
       "        vertical-align: middle;\n",
       "    }\n",
       "\n",
       "    .dataframe tbody tr th {\n",
       "        vertical-align: top;\n",
       "    }\n",
       "\n",
       "    .dataframe thead th {\n",
       "        text-align: right;\n",
       "    }\n",
       "</style>\n",
       "<table border=\"1\" class=\"dataframe\">\n",
       "  <thead>\n",
       "    <tr style=\"text-align: right;\">\n",
       "      <th></th>\n",
       "      <th>tarih</th>\n",
       "      <th>ürün</th>\n",
       "      <th>ürün besin değeri</th>\n",
       "      <th>ürün kategorisi</th>\n",
       "      <th>ürün fiyatı</th>\n",
       "      <th>ürün üretim yeri</th>\n",
       "      <th>market</th>\n",
       "      <th>şehir</th>\n",
       "      <th>Yıl</th>\n",
       "      <th>Ay</th>\n",
       "      <th>Gün</th>\n",
       "    </tr>\n",
       "  </thead>\n",
       "  <tbody>\n",
       "    <tr>\n",
       "      <th>0</th>\n",
       "      <td>2016-01-01</td>\n",
       "      <td>kıyma</td>\n",
       "      <td>120</td>\n",
       "      <td>et</td>\n",
       "      <td>33.41</td>\n",
       "      <td>Yurt içi</td>\n",
       "      <td>M</td>\n",
       "      <td>A</td>\n",
       "      <td>2016</td>\n",
       "      <td>1</td>\n",
       "      <td>1</td>\n",
       "    </tr>\n",
       "    <tr>\n",
       "      <th>1</th>\n",
       "      <td>2016-01-01</td>\n",
       "      <td>tavuk</td>\n",
       "      <td>103</td>\n",
       "      <td>et</td>\n",
       "      <td>11.22</td>\n",
       "      <td>Yurt içi</td>\n",
       "      <td>M</td>\n",
       "      <td>A</td>\n",
       "      <td>2016</td>\n",
       "      <td>1</td>\n",
       "      <td>1</td>\n",
       "    </tr>\n",
       "    <tr>\n",
       "      <th>2</th>\n",
       "      <td>2016-01-01</td>\n",
       "      <td>hindi</td>\n",
       "      <td>160</td>\n",
       "      <td>et</td>\n",
       "      <td>11.12</td>\n",
       "      <td>Yurt içi</td>\n",
       "      <td>M</td>\n",
       "      <td>A</td>\n",
       "      <td>2016</td>\n",
       "      <td>1</td>\n",
       "      <td>1</td>\n",
       "    </tr>\n",
       "    <tr>\n",
       "      <th>3</th>\n",
       "      <td>2016-01-01</td>\n",
       "      <td>Bakla-kuru</td>\n",
       "      <td>354</td>\n",
       "      <td>sebze ve bakliyat</td>\n",
       "      <td>7.02</td>\n",
       "      <td>Yurt içi</td>\n",
       "      <td>M</td>\n",
       "      <td>A</td>\n",
       "      <td>2016</td>\n",
       "      <td>1</td>\n",
       "      <td>1</td>\n",
       "    </tr>\n",
       "    <tr>\n",
       "      <th>4</th>\n",
       "      <td>2016-01-01</td>\n",
       "      <td>Bakla-taze</td>\n",
       "      <td>72</td>\n",
       "      <td>sebze ve bakliyat</td>\n",
       "      <td>13.14</td>\n",
       "      <td>Yurt içi</td>\n",
       "      <td>M</td>\n",
       "      <td>A</td>\n",
       "      <td>2016</td>\n",
       "      <td>1</td>\n",
       "      <td>1</td>\n",
       "    </tr>\n",
       "  </tbody>\n",
       "</table>\n",
       "</div>"
      ],
      "text/plain": [
       "       tarih        ürün  ürün besin değeri    ürün kategorisi  ürün fiyatı  \\\n",
       "0 2016-01-01       kıyma                120                 et        33.41   \n",
       "1 2016-01-01       tavuk                103                 et        11.22   \n",
       "2 2016-01-01       hindi                160                 et        11.12   \n",
       "3 2016-01-01  Bakla-kuru                354  sebze ve bakliyat         7.02   \n",
       "4 2016-01-01  Bakla-taze                 72  sebze ve bakliyat        13.14   \n",
       "\n",
       "  ürün üretim yeri market şehir   Yıl  Ay  Gün  \n",
       "0         Yurt içi      M     A  2016   1    1  \n",
       "1         Yurt içi      M     A  2016   1    1  \n",
       "2         Yurt içi      M     A  2016   1    1  \n",
       "3         Yurt içi      M     A  2016   1    1  \n",
       "4         Yurt içi      M     A  2016   1    1  "
      ]
     },
     "execution_count": 26,
     "metadata": {},
     "output_type": "execute_result"
    }
   ],
   "source": [
    "train.head()\n",
    "#pd.get_dummies(train)"
   ]
  },
  {
   "cell_type": "code",
   "execution_count": 27,
   "metadata": {},
   "outputs": [
    {
     "data": {
      "text/plain": [
       "'X = train[[\"ürün\",\"ürün kategorisi\",\"ürün üretim yeri\",\"market\",\"şehir\"]]\\ny = train[[\"ürün fiyatı\"]]'"
      ]
     },
     "execution_count": 27,
     "metadata": {},
     "output_type": "execute_result"
    }
   ],
   "source": [
    "'''X = train[[\"ürün\",\"ürün kategorisi\",\"ürün üretim yeri\",\"market\",\"şehir\"]]\n",
    "y = train[[\"ürün fiyatı\"]]'''"
   ]
  },
  {
   "cell_type": "code",
   "execution_count": 28,
   "metadata": {},
   "outputs": [],
   "source": [
    "X = new_data[[\"ürün\",\"ürün kategorisi\",\"ürün üretim yeri\",\"market\",\"şehir\"]]\n",
    "y = np.log(new_data[[\"ürün fiyatı\"]])"
   ]
  },
  {
   "cell_type": "code",
   "execution_count": 29,
   "metadata": {},
   "outputs": [],
   "source": [
    "#= pd.read_csv('test_Features.csv')\n",
    "data = pd.get_dummies(X)\n"
   ]
  },
  {
   "cell_type": "code",
   "execution_count": 30,
   "metadata": {},
   "outputs": [
    {
     "data": {
      "text/html": [
       "<div>\n",
       "<style scoped>\n",
       "    .dataframe tbody tr th:only-of-type {\n",
       "        vertical-align: middle;\n",
       "    }\n",
       "\n",
       "    .dataframe tbody tr th {\n",
       "        vertical-align: top;\n",
       "    }\n",
       "\n",
       "    .dataframe thead th {\n",
       "        text-align: right;\n",
       "    }\n",
       "</style>\n",
       "<table border=\"1\" class=\"dataframe\">\n",
       "  <thead>\n",
       "    <tr style=\"text-align: right;\">\n",
       "      <th></th>\n",
       "      <th>ürün_Armut</th>\n",
       "      <th>ürün_Bakla-kuru</th>\n",
       "      <th>ürün_Bakla-taze</th>\n",
       "      <th>ürün_Bamya</th>\n",
       "      <th>ürün_Barbunya-kuru</th>\n",
       "      <th>ürün_Bezelye-taze</th>\n",
       "      <th>ürün_Biber-yeşil</th>\n",
       "      <th>ürün_Brüksel laha.</th>\n",
       "      <th>ürün_Bulgur</th>\n",
       "      <th>ürün_Buğday ekmeği</th>\n",
       "      <th>...</th>\n",
       "      <th>market_C</th>\n",
       "      <th>market_M</th>\n",
       "      <th>şehir_A</th>\n",
       "      <th>şehir_B</th>\n",
       "      <th>şehir_C</th>\n",
       "      <th>şehir_D</th>\n",
       "      <th>şehir_E</th>\n",
       "      <th>şehir_F</th>\n",
       "      <th>şehir_G</th>\n",
       "      <th>şehir_H</th>\n",
       "    </tr>\n",
       "  </thead>\n",
       "  <tbody>\n",
       "    <tr>\n",
       "      <th>0</th>\n",
       "      <td>0</td>\n",
       "      <td>0</td>\n",
       "      <td>0</td>\n",
       "      <td>0</td>\n",
       "      <td>0</td>\n",
       "      <td>0</td>\n",
       "      <td>0</td>\n",
       "      <td>0</td>\n",
       "      <td>0</td>\n",
       "      <td>0</td>\n",
       "      <td>...</td>\n",
       "      <td>0</td>\n",
       "      <td>1</td>\n",
       "      <td>1</td>\n",
       "      <td>0</td>\n",
       "      <td>0</td>\n",
       "      <td>0</td>\n",
       "      <td>0</td>\n",
       "      <td>0</td>\n",
       "      <td>0</td>\n",
       "      <td>0</td>\n",
       "    </tr>\n",
       "    <tr>\n",
       "      <th>1</th>\n",
       "      <td>0</td>\n",
       "      <td>0</td>\n",
       "      <td>0</td>\n",
       "      <td>0</td>\n",
       "      <td>0</td>\n",
       "      <td>0</td>\n",
       "      <td>0</td>\n",
       "      <td>0</td>\n",
       "      <td>0</td>\n",
       "      <td>0</td>\n",
       "      <td>...</td>\n",
       "      <td>0</td>\n",
       "      <td>1</td>\n",
       "      <td>1</td>\n",
       "      <td>0</td>\n",
       "      <td>0</td>\n",
       "      <td>0</td>\n",
       "      <td>0</td>\n",
       "      <td>0</td>\n",
       "      <td>0</td>\n",
       "      <td>0</td>\n",
       "    </tr>\n",
       "    <tr>\n",
       "      <th>2</th>\n",
       "      <td>0</td>\n",
       "      <td>0</td>\n",
       "      <td>0</td>\n",
       "      <td>0</td>\n",
       "      <td>0</td>\n",
       "      <td>0</td>\n",
       "      <td>0</td>\n",
       "      <td>0</td>\n",
       "      <td>0</td>\n",
       "      <td>0</td>\n",
       "      <td>...</td>\n",
       "      <td>0</td>\n",
       "      <td>1</td>\n",
       "      <td>1</td>\n",
       "      <td>0</td>\n",
       "      <td>0</td>\n",
       "      <td>0</td>\n",
       "      <td>0</td>\n",
       "      <td>0</td>\n",
       "      <td>0</td>\n",
       "      <td>0</td>\n",
       "    </tr>\n",
       "    <tr>\n",
       "      <th>79</th>\n",
       "      <td>0</td>\n",
       "      <td>0</td>\n",
       "      <td>0</td>\n",
       "      <td>0</td>\n",
       "      <td>0</td>\n",
       "      <td>0</td>\n",
       "      <td>0</td>\n",
       "      <td>0</td>\n",
       "      <td>0</td>\n",
       "      <td>0</td>\n",
       "      <td>...</td>\n",
       "      <td>0</td>\n",
       "      <td>1</td>\n",
       "      <td>1</td>\n",
       "      <td>0</td>\n",
       "      <td>0</td>\n",
       "      <td>0</td>\n",
       "      <td>0</td>\n",
       "      <td>0</td>\n",
       "      <td>0</td>\n",
       "      <td>0</td>\n",
       "    </tr>\n",
       "    <tr>\n",
       "      <th>80</th>\n",
       "      <td>0</td>\n",
       "      <td>0</td>\n",
       "      <td>0</td>\n",
       "      <td>0</td>\n",
       "      <td>0</td>\n",
       "      <td>0</td>\n",
       "      <td>0</td>\n",
       "      <td>0</td>\n",
       "      <td>0</td>\n",
       "      <td>0</td>\n",
       "      <td>...</td>\n",
       "      <td>0</td>\n",
       "      <td>1</td>\n",
       "      <td>1</td>\n",
       "      <td>0</td>\n",
       "      <td>0</td>\n",
       "      <td>0</td>\n",
       "      <td>0</td>\n",
       "      <td>0</td>\n",
       "      <td>0</td>\n",
       "      <td>0</td>\n",
       "    </tr>\n",
       "  </tbody>\n",
       "</table>\n",
       "<p>5 rows × 98 columns</p>\n",
       "</div>"
      ],
      "text/plain": [
       "    ürün_Armut  ürün_Bakla-kuru  ürün_Bakla-taze  ürün_Bamya  \\\n",
       "0            0                0                0           0   \n",
       "1            0                0                0           0   \n",
       "2            0                0                0           0   \n",
       "79           0                0                0           0   \n",
       "80           0                0                0           0   \n",
       "\n",
       "    ürün_Barbunya-kuru  ürün_Bezelye-taze  ürün_Biber-yeşil  \\\n",
       "0                    0                  0                 0   \n",
       "1                    0                  0                 0   \n",
       "2                    0                  0                 0   \n",
       "79                   0                  0                 0   \n",
       "80                   0                  0                 0   \n",
       "\n",
       "    ürün_Brüksel laha.  ürün_Bulgur  ürün_Buğday ekmeği  ...  market_C  \\\n",
       "0                    0            0                   0  ...         0   \n",
       "1                    0            0                   0  ...         0   \n",
       "2                    0            0                   0  ...         0   \n",
       "79                   0            0                   0  ...         0   \n",
       "80                   0            0                   0  ...         0   \n",
       "\n",
       "    market_M  şehir_A  şehir_B  şehir_C  şehir_D  şehir_E  şehir_F  şehir_G  \\\n",
       "0          1        1        0        0        0        0        0        0   \n",
       "1          1        1        0        0        0        0        0        0   \n",
       "2          1        1        0        0        0        0        0        0   \n",
       "79         1        1        0        0        0        0        0        0   \n",
       "80         1        1        0        0        0        0        0        0   \n",
       "\n",
       "    şehir_H  \n",
       "0         0  \n",
       "1         0  \n",
       "2         0  \n",
       "79        0  \n",
       "80        0  \n",
       "\n",
       "[5 rows x 98 columns]"
      ]
     },
     "execution_count": 30,
     "metadata": {},
     "output_type": "execute_result"
    }
   ],
   "source": [
    "data.head()"
   ]
  },
  {
   "cell_type": "code",
   "execution_count": 31,
   "metadata": {},
   "outputs": [],
   "source": [
    "from sklearn.model_selection import train_test_split"
   ]
  },
  {
   "cell_type": "code",
   "execution_count": 32,
   "metadata": {},
   "outputs": [],
   "source": [
    "x_train, x_test, y_train, y_test = train_test_split(data,y,test_size=0.2,random_state=10)"
   ]
  },
  {
   "cell_type": "code",
   "execution_count": 33,
   "metadata": {},
   "outputs": [],
   "source": [
    "from sklearn.preprocessing import MinMaxScaler\n",
    "scaler = MinMaxScaler()"
   ]
  },
  {
   "cell_type": "code",
   "execution_count": 34,
   "metadata": {},
   "outputs": [],
   "source": [
    "x_train = scaler.fit_transform(x_train)"
   ]
  },
  {
   "cell_type": "code",
   "execution_count": 35,
   "metadata": {},
   "outputs": [],
   "source": [
    "x_test = scaler.transform(x_test)"
   ]
  },
  {
   "cell_type": "code",
   "execution_count": 36,
   "metadata": {},
   "outputs": [],
   "source": [
    "from tensorflow.keras.models import Sequential\n",
    "from tensorflow.keras.layers import Dense\n",
    "from tensorflow import keras"
   ]
  },
  {
   "cell_type": "code",
   "execution_count": 37,
   "metadata": {},
   "outputs": [
    {
     "data": {
      "text/plain": [
       "(182016, 98)"
      ]
     },
     "execution_count": 37,
     "metadata": {},
     "output_type": "execute_result"
    }
   ],
   "source": [
    "x_train.shape"
   ]
  },
  {
   "cell_type": "code",
   "execution_count": 38,
   "metadata": {},
   "outputs": [
    {
     "data": {
      "text/plain": [
       "array([[0., 0., 0., ..., 0., 0., 0.],\n",
       "       [0., 0., 0., ..., 1., 0., 0.],\n",
       "       [0., 0., 0., ..., 0., 0., 1.],\n",
       "       ...,\n",
       "       [0., 0., 0., ..., 0., 0., 0.],\n",
       "       [0., 0., 0., ..., 1., 0., 0.],\n",
       "       [0., 0., 0., ..., 0., 0., 0.]])"
      ]
     },
     "execution_count": 38,
     "metadata": {},
     "output_type": "execute_result"
    }
   ],
   "source": [
    "x_test"
   ]
  },
  {
   "cell_type": "code",
   "execution_count": 39,
   "metadata": {},
   "outputs": [],
   "source": [
    "model = Sequential()\n",
    "\n",
    "model.add(Dense(12,activation=\"relu\"))\n",
    "model.add(Dense(12,activation=\"relu\"))\n",
    "model.add(Dense(12,activation=\"relu\"))\n",
    "model.add(Dense(12,activation=\"relu\"))\n",
    "\n",
    "model.add(Dense(1))\n",
    "opt = keras.optimizers.Adam(learning_rate=0.0001)\n",
    "model.compile(optimizer=opt,loss=\"mse\")\n"
   ]
  },
  {
   "cell_type": "code",
   "execution_count": 40,
   "metadata": {},
   "outputs": [],
   "source": [
    "from tensorflow.keras.models import Sequential\n",
    "from tensorflow.keras.layers import Dense"
   ]
  },
  {
   "cell_type": "code",
   "execution_count": 41,
   "metadata": {},
   "outputs": [
    {
     "name": "stdout",
     "output_type": "stream",
     "text": [
      "Epoch 1/10\n",
      "607/607 [==============================] - 7s 8ms/step - loss: 2.8807 - val_loss: 0.4942\n",
      "Epoch 2/10\n",
      "607/607 [==============================] - 4s 7ms/step - loss: 0.3600 - val_loss: 0.2712\n",
      "Epoch 3/10\n",
      "607/607 [==============================] - 4s 7ms/step - loss: 0.2240 - val_loss: 0.1918\n",
      "Epoch 4/10\n",
      "607/607 [==============================] - 4s 6ms/step - loss: 0.1738 - val_loss: 0.1613\n",
      "Epoch 5/10\n",
      "607/607 [==============================] - 2s 3ms/step - loss: 0.1544 - val_loss: 0.1496\n",
      "Epoch 6/10\n",
      "607/607 [==============================] - 2s 3ms/step - loss: 0.1470 - val_loss: 0.1451\n",
      "Epoch 7/10\n",
      "607/607 [==============================] - 2s 4ms/step - loss: 0.1441 - val_loss: 0.1434\n",
      "Epoch 8/10\n",
      "607/607 [==============================] - 2s 4ms/step - loss: 0.1427 - val_loss: 0.1425\n",
      "Epoch 9/10\n",
      "607/607 [==============================] - 2s 3ms/step - loss: 0.1419 - val_loss: 0.1417\n",
      "Epoch 10/10\n",
      "607/607 [==============================] - 2s 3ms/step - loss: 0.1413 - val_loss: 0.1413\n"
     ]
    },
    {
     "data": {
      "text/plain": [
       "<keras.callbacks.History at 0x2542591c4f0>"
      ]
     },
     "execution_count": 41,
     "metadata": {},
     "output_type": "execute_result"
    }
   ],
   "source": [
    "model.fit(x=x_train, y = y_train,validation_data=(x_test,y_test),batch_size=300,epochs=10)"
   ]
  },
  {
   "cell_type": "code",
   "execution_count": 42,
   "metadata": {},
   "outputs": [],
   "source": [
    "from sklearn.metrics import mean_squared_error, mean_absolute_error"
   ]
  },
  {
   "cell_type": "code",
   "execution_count": 43,
   "metadata": {},
   "outputs": [],
   "source": [
    "pred_array = model.predict(x_test)"
   ]
  },
  {
   "cell_type": "code",
   "execution_count": 44,
   "metadata": {},
   "outputs": [
    {
     "data": {
      "text/plain": [
       "array([[3.0342057 ],\n",
       "       [1.8206517 ],\n",
       "       [3.3398275 ],\n",
       "       ...,\n",
       "       [0.38846755],\n",
       "       [3.6259391 ],\n",
       "       [2.5795224 ]], dtype=float32)"
      ]
     },
     "execution_count": 44,
     "metadata": {},
     "output_type": "execute_result"
    }
   ],
   "source": [
    "pred_array"
   ]
  },
  {
   "cell_type": "code",
   "execution_count": 45,
   "metadata": {},
   "outputs": [],
   "source": [
    "ypredd=pd.DataFrame(pred_array)"
   ]
  },
  {
   "cell_type": "code",
   "execution_count": 46,
   "metadata": {},
   "outputs": [],
   "source": [
    "testf = pd.read_csv(\"testFeatures.csv\")"
   ]
  },
  {
   "cell_type": "code",
   "execution_count": 47,
   "metadata": {},
   "outputs": [],
   "source": [
    "xtest = testf[[\"ürün\",\"ürün kategorisi\",\"ürün üretim yeri\",\"market\",\"şehir\"]]\n"
   ]
  },
  {
   "cell_type": "code",
   "execution_count": 48,
   "metadata": {},
   "outputs": [
    {
     "data": {
      "text/html": [
       "<div>\n",
       "<style scoped>\n",
       "    .dataframe tbody tr th:only-of-type {\n",
       "        vertical-align: middle;\n",
       "    }\n",
       "\n",
       "    .dataframe tbody tr th {\n",
       "        vertical-align: top;\n",
       "    }\n",
       "\n",
       "    .dataframe thead th {\n",
       "        text-align: right;\n",
       "    }\n",
       "</style>\n",
       "<table border=\"1\" class=\"dataframe\">\n",
       "  <thead>\n",
       "    <tr style=\"text-align: right;\">\n",
       "      <th></th>\n",
       "      <th>id</th>\n",
       "      <th>tarih</th>\n",
       "      <th>ürün</th>\n",
       "      <th>ürün besin değeri</th>\n",
       "      <th>ürün kategorisi</th>\n",
       "      <th>ürün üretim yeri</th>\n",
       "      <th>market</th>\n",
       "      <th>şehir</th>\n",
       "    </tr>\n",
       "  </thead>\n",
       "  <tbody>\n",
       "    <tr>\n",
       "      <th>0</th>\n",
       "      <td>0</td>\n",
       "      <td>2021-01-01</td>\n",
       "      <td>kıyma</td>\n",
       "      <td>120</td>\n",
       "      <td>et</td>\n",
       "      <td>Yurt içi</td>\n",
       "      <td>M</td>\n",
       "      <td>A</td>\n",
       "    </tr>\n",
       "    <tr>\n",
       "      <th>1</th>\n",
       "      <td>1</td>\n",
       "      <td>2021-01-01</td>\n",
       "      <td>tavuk</td>\n",
       "      <td>103</td>\n",
       "      <td>et</td>\n",
       "      <td>Yurt içi</td>\n",
       "      <td>M</td>\n",
       "      <td>A</td>\n",
       "    </tr>\n",
       "    <tr>\n",
       "      <th>2</th>\n",
       "      <td>2</td>\n",
       "      <td>2021-01-01</td>\n",
       "      <td>hindi</td>\n",
       "      <td>160</td>\n",
       "      <td>et</td>\n",
       "      <td>Yurt içi</td>\n",
       "      <td>M</td>\n",
       "      <td>A</td>\n",
       "    </tr>\n",
       "    <tr>\n",
       "      <th>3</th>\n",
       "      <td>3</td>\n",
       "      <td>2021-01-01</td>\n",
       "      <td>Bakla-kuru</td>\n",
       "      <td>354</td>\n",
       "      <td>sebze ve bakliyat</td>\n",
       "      <td>Yurt içi</td>\n",
       "      <td>M</td>\n",
       "      <td>A</td>\n",
       "    </tr>\n",
       "    <tr>\n",
       "      <th>4</th>\n",
       "      <td>4</td>\n",
       "      <td>2021-01-01</td>\n",
       "      <td>Bakla-taze</td>\n",
       "      <td>72</td>\n",
       "      <td>sebze ve bakliyat</td>\n",
       "      <td>Yurt içi</td>\n",
       "      <td>M</td>\n",
       "      <td>A</td>\n",
       "    </tr>\n",
       "    <tr>\n",
       "      <th>...</th>\n",
       "      <td>...</td>\n",
       "      <td>...</td>\n",
       "      <td>...</td>\n",
       "      <td>...</td>\n",
       "      <td>...</td>\n",
       "      <td>...</td>\n",
       "      <td>...</td>\n",
       "      <td>...</td>\n",
       "    </tr>\n",
       "    <tr>\n",
       "      <th>45499</th>\n",
       "      <td>45499</td>\n",
       "      <td>2021-12-01</td>\n",
       "      <td>fındık</td>\n",
       "      <td>110</td>\n",
       "      <td>kuruyemiş</td>\n",
       "      <td>Yurt dışı</td>\n",
       "      <td>B</td>\n",
       "      <td>H</td>\n",
       "    </tr>\n",
       "    <tr>\n",
       "      <th>45500</th>\n",
       "      <td>45500</td>\n",
       "      <td>2021-12-01</td>\n",
       "      <td>fıstık</td>\n",
       "      <td>115</td>\n",
       "      <td>kuruyemiş</td>\n",
       "      <td>Yurt dışı</td>\n",
       "      <td>B</td>\n",
       "      <td>H</td>\n",
       "    </tr>\n",
       "    <tr>\n",
       "      <th>45501</th>\n",
       "      <td>45501</td>\n",
       "      <td>2021-12-01</td>\n",
       "      <td>kaju</td>\n",
       "      <td>100</td>\n",
       "      <td>kuruyemiş</td>\n",
       "      <td>Yurt dışı</td>\n",
       "      <td>B</td>\n",
       "      <td>H</td>\n",
       "    </tr>\n",
       "    <tr>\n",
       "      <th>45502</th>\n",
       "      <td>45502</td>\n",
       "      <td>2021-12-01</td>\n",
       "      <td>badem</td>\n",
       "      <td>110</td>\n",
       "      <td>kuruyemiş</td>\n",
       "      <td>Yurt dışı</td>\n",
       "      <td>B</td>\n",
       "      <td>H</td>\n",
       "    </tr>\n",
       "    <tr>\n",
       "      <th>45503</th>\n",
       "      <td>45503</td>\n",
       "      <td>2021-12-01</td>\n",
       "      <td>ceviz</td>\n",
       "      <td>120</td>\n",
       "      <td>kuruyemiş</td>\n",
       "      <td>Yurt dışı</td>\n",
       "      <td>B</td>\n",
       "      <td>H</td>\n",
       "    </tr>\n",
       "  </tbody>\n",
       "</table>\n",
       "<p>45504 rows × 8 columns</p>\n",
       "</div>"
      ],
      "text/plain": [
       "          id       tarih        ürün  ürün besin değeri    ürün kategorisi  \\\n",
       "0          0  2021-01-01       kıyma                120                 et   \n",
       "1          1  2021-01-01       tavuk                103                 et   \n",
       "2          2  2021-01-01       hindi                160                 et   \n",
       "3          3  2021-01-01  Bakla-kuru                354  sebze ve bakliyat   \n",
       "4          4  2021-01-01  Bakla-taze                 72  sebze ve bakliyat   \n",
       "...      ...         ...         ...                ...                ...   \n",
       "45499  45499  2021-12-01      fındık                110          kuruyemiş   \n",
       "45500  45500  2021-12-01      fıstık                115          kuruyemiş   \n",
       "45501  45501  2021-12-01        kaju                100          kuruyemiş   \n",
       "45502  45502  2021-12-01       badem                110          kuruyemiş   \n",
       "45503  45503  2021-12-01       ceviz                120          kuruyemiş   \n",
       "\n",
       "      ürün üretim yeri market şehir  \n",
       "0             Yurt içi      M     A  \n",
       "1             Yurt içi      M     A  \n",
       "2             Yurt içi      M     A  \n",
       "3             Yurt içi      M     A  \n",
       "4             Yurt içi      M     A  \n",
       "...                ...    ...   ...  \n",
       "45499        Yurt dışı      B     H  \n",
       "45500        Yurt dışı      B     H  \n",
       "45501        Yurt dışı      B     H  \n",
       "45502        Yurt dışı      B     H  \n",
       "45503        Yurt dışı      B     H  \n",
       "\n",
       "[45504 rows x 8 columns]"
      ]
     },
     "execution_count": 48,
     "metadata": {},
     "output_type": "execute_result"
    }
   ],
   "source": [
    "testf"
   ]
  },
  {
   "cell_type": "code",
   "execution_count": 49,
   "metadata": {},
   "outputs": [],
   "source": [
    "deneme= pd.get_dummies(xtest)"
   ]
  },
  {
   "cell_type": "code",
   "execution_count": 50,
   "metadata": {},
   "outputs": [],
   "source": [
    "y_predd = model.predict(deneme)\n"
   ]
  },
  {
   "cell_type": "code",
   "execution_count": null,
   "metadata": {},
   "outputs": [],
   "source": [
    "ypredd=pd.DataFrame(y_predd)"
   ]
  },
  {
   "cell_type": "code",
   "execution_count": null,
   "metadata": {},
   "outputs": [],
   "source": [
    "testf['ürün fiyatı']= y_predd"
   ]
  },
  {
   "cell_type": "code",
   "execution_count": null,
   "metadata": {},
   "outputs": [],
   "source": [
    "testf[['ürün fiyatı']].to_csv('solutionss.csv')"
   ]
  },
  {
   "cell_type": "code",
   "execution_count": null,
   "metadata": {},
   "outputs": [],
   "source": []
  }
 ],
 "metadata": {
  "interpreter": {
   "hash": "b89b5cfaba6639976dc87ff2fec6d58faec662063367e2c229c520fe71072417"
  },
  "kernelspec": {
   "display_name": "Python 3.10.2 64-bit",
   "language": "python",
   "name": "python3"
  },
  "language_info": {
   "codemirror_mode": {
    "name": "ipython",
    "version": 3
   },
   "file_extension": ".py",
   "mimetype": "text/x-python",
   "name": "python",
   "nbconvert_exporter": "python",
   "pygments_lexer": "ipython3",
   "version": "3.10.2"
  },
  "orig_nbformat": 4
 },
 "nbformat": 4,
 "nbformat_minor": 2
}
